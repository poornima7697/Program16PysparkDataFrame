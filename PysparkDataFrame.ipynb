{
 "cells": [
  {
   "cell_type": "code",
   "execution_count": 5,
   "id": "da5df179",
   "metadata": {},
   "outputs": [],
   "source": [
    "import findspark\n",
    "findspark.init()"
   ]
  },
  {
   "cell_type": "code",
   "execution_count": 6,
   "id": "71605cb7",
   "metadata": {},
   "outputs": [],
   "source": [
    "import pyspark \n",
    "from pyspark.sql import SparkSession\n",
    "spark=SparkSession.builder.appName(\"StudyApp\").getOrCreate()"
   ]
  },
  {
   "cell_type": "code",
   "execution_count": 7,
   "id": "c24c59bb",
   "metadata": {},
   "outputs": [],
   "source": [
    "data=[101,\"Ravi\",4000],[102,\"Ketan\",4500],[103,\"vishal\",6000]\n",
    "df=spark.createDataFrame(data,[\"EMPID\",\"EMPNAME\",\"SAL\"])"
   ]
  },
  {
   "cell_type": "code",
   "execution_count": 4,
   "id": "3865b71d",
   "metadata": {},
   "outputs": [],
   "source": [
    "import findspark\n",
    "findspark.init()\n"
   ]
  },
  {
   "cell_type": "code",
   "execution_count": 5,
   "id": "400c3c34",
   "metadata": {
    "scrolled": true
   },
   "outputs": [
    {
     "data": {
      "text/plain": [
       "DataFrame[EMPID: bigint, EMPNAME: string, SAL: bigint]"
      ]
     },
     "execution_count": 5,
     "metadata": {},
     "output_type": "execute_result"
    }
   ],
   "source": [
    "df"
   ]
  },
  {
   "cell_type": "code",
   "execution_count": 6,
   "id": "bac69913",
   "metadata": {},
   "outputs": [
    {
     "name": "stdout",
     "output_type": "stream",
     "text": [
      "<class 'pyspark.sql.dataframe.DataFrame'>\n"
     ]
    }
   ],
   "source": [
    "print(type(df))"
   ]
  },
  {
   "cell_type": "code",
   "execution_count": 7,
   "id": "f28732e1",
   "metadata": {},
   "outputs": [
    {
     "name": "stdout",
     "output_type": "stream",
     "text": [
      "+-----+-------+----+\n",
      "|EMPID|EMPNAME| SAL|\n",
      "+-----+-------+----+\n",
      "|  101|   Ravi|4000|\n",
      "|  102|  Ketan|4500|\n",
      "|  103| vishal|6000|\n",
      "+-----+-------+----+\n",
      "\n"
     ]
    }
   ],
   "source": [
    "df.show()"
   ]
  },
  {
   "cell_type": "code",
   "execution_count": 8,
   "id": "78ebb8ff",
   "metadata": {},
   "outputs": [
    {
     "name": "stdout",
     "output_type": "stream",
     "text": [
      "<class 'pyspark.sql.dataframe.DataFrame'>\n"
     ]
    }
   ],
   "source": [
    "df.toPandas()\n",
    "print(type(df))"
   ]
  },
  {
   "cell_type": "code",
   "execution_count": 21,
   "id": "c22cc545",
   "metadata": {},
   "outputs": [
    {
     "name": "stdout",
     "output_type": "stream",
     "text": [
      "<class 'pandas.core.frame.DataFrame'>\n"
     ]
    }
   ],
   "source": [
    "df1=df.toPandas()\n",
    "print(type(df1))"
   ]
  },
  {
   "cell_type": "code",
   "execution_count": 22,
   "id": "40ca5a27",
   "metadata": {},
   "outputs": [
    {
     "data": {
      "text/plain": [
       "['EMPID', 'EMPNAME', 'SAL']"
      ]
     },
     "execution_count": 22,
     "metadata": {},
     "output_type": "execute_result"
    }
   ],
   "source": [
    "df.columns"
   ]
  },
  {
   "cell_type": "code",
   "execution_count": 13,
   "id": "89372aa8",
   "metadata": {},
   "outputs": [
    {
     "data": {
      "text/plain": [
       "3"
      ]
     },
     "execution_count": 13,
     "metadata": {},
     "output_type": "execute_result"
    }
   ],
   "source": [
    "df.count()"
   ]
  },
  {
   "cell_type": "code",
   "execution_count": 8,
   "id": "5f16b578",
   "metadata": {},
   "outputs": [
    {
     "name": "stdout",
     "output_type": "stream",
     "text": [
      "+------+--------+--------+--------+-----+----+\n",
      "|itemid|itemname|itemcost|supplier|grade| qty|\n",
      "+------+--------+--------+--------+-----+----+\n",
      "|     1|  Pencil|       4|       Y|    B|   6|\n",
      "|     2|     Pen|      43|       X|    A|   1|\n",
      "|     3|  Duster|      54|       Y|    C|   3|\n",
      "|     4|   Chock|      65|       X|    A|   4|\n",
      "|     5|notebook|    null|    null| null|null|\n",
      "|     6|    null|    null|    null| null|null|\n",
      "|     7| shopner|    null|       Y|    C|null|\n",
      "|     8|  Duster|      54|       Y|    C|   3|\n",
      "|     9|   Chock|      65|       X|    A|   4|\n",
      "+------+--------+--------+--------+-----+----+\n",
      "\n"
     ]
    }
   ],
   "source": [
    "df=spark.read.csv(\"D:\\\\items1.csv\",header=True)\n",
    "df.show()"
   ]
  },
  {
   "cell_type": "code",
   "execution_count": 9,
   "id": "501ab181",
   "metadata": {},
   "outputs": [
    {
     "data": {
      "text/plain": [
       "Row(itemid='1', itemname='Pencil', itemcost='4', supplier='Y', grade='B', qty='6')"
      ]
     },
     "execution_count": 9,
     "metadata": {},
     "output_type": "execute_result"
    }
   ],
   "source": [
    "pdf=df.head()\n",
    "pdf"
   ]
  },
  {
   "cell_type": "code",
   "execution_count": null,
   "id": "6656a309",
   "metadata": {},
   "outputs": [],
   "source": []
  },
  {
   "cell_type": "code",
   "execution_count": 10,
   "id": "2dc7d407",
   "metadata": {},
   "outputs": [
    {
     "data": {
      "text/html": [
       "<div>\n",
       "<style scoped>\n",
       "    .dataframe tbody tr th:only-of-type {\n",
       "        vertical-align: middle;\n",
       "    }\n",
       "\n",
       "    .dataframe tbody tr th {\n",
       "        vertical-align: top;\n",
       "    }\n",
       "\n",
       "    .dataframe thead th {\n",
       "        text-align: right;\n",
       "    }\n",
       "</style>\n",
       "<table border=\"1\" class=\"dataframe\">\n",
       "  <thead>\n",
       "    <tr style=\"text-align: right;\">\n",
       "      <th></th>\n",
       "      <th>itemid</th>\n",
       "      <th>itemname</th>\n",
       "      <th>itemcost</th>\n",
       "      <th>supplier</th>\n",
       "      <th>grade</th>\n",
       "      <th>qty</th>\n",
       "    </tr>\n",
       "  </thead>\n",
       "  <tbody>\n",
       "    <tr>\n",
       "      <th>0</th>\n",
       "      <td>1</td>\n",
       "      <td>Pencil</td>\n",
       "      <td>4</td>\n",
       "      <td>Y</td>\n",
       "      <td>B</td>\n",
       "      <td>6</td>\n",
       "    </tr>\n",
       "    <tr>\n",
       "      <th>1</th>\n",
       "      <td>2</td>\n",
       "      <td>Pen</td>\n",
       "      <td>43</td>\n",
       "      <td>X</td>\n",
       "      <td>A</td>\n",
       "      <td>1</td>\n",
       "    </tr>\n",
       "    <tr>\n",
       "      <th>2</th>\n",
       "      <td>3</td>\n",
       "      <td>Duster</td>\n",
       "      <td>54</td>\n",
       "      <td>Y</td>\n",
       "      <td>C</td>\n",
       "      <td>3</td>\n",
       "    </tr>\n",
       "    <tr>\n",
       "      <th>3</th>\n",
       "      <td>4</td>\n",
       "      <td>Chock</td>\n",
       "      <td>65</td>\n",
       "      <td>X</td>\n",
       "      <td>A</td>\n",
       "      <td>4</td>\n",
       "    </tr>\n",
       "    <tr>\n",
       "      <th>4</th>\n",
       "      <td>5</td>\n",
       "      <td>notebook</td>\n",
       "      <td>None</td>\n",
       "      <td>None</td>\n",
       "      <td>None</td>\n",
       "      <td>None</td>\n",
       "    </tr>\n",
       "    <tr>\n",
       "      <th>5</th>\n",
       "      <td>6</td>\n",
       "      <td>None</td>\n",
       "      <td>None</td>\n",
       "      <td>None</td>\n",
       "      <td>None</td>\n",
       "      <td>None</td>\n",
       "    </tr>\n",
       "    <tr>\n",
       "      <th>6</th>\n",
       "      <td>7</td>\n",
       "      <td>shopner</td>\n",
       "      <td>None</td>\n",
       "      <td>Y</td>\n",
       "      <td>C</td>\n",
       "      <td>None</td>\n",
       "    </tr>\n",
       "    <tr>\n",
       "      <th>7</th>\n",
       "      <td>8</td>\n",
       "      <td>Duster</td>\n",
       "      <td>54</td>\n",
       "      <td>Y</td>\n",
       "      <td>C</td>\n",
       "      <td>3</td>\n",
       "    </tr>\n",
       "    <tr>\n",
       "      <th>8</th>\n",
       "      <td>9</td>\n",
       "      <td>Chock</td>\n",
       "      <td>65</td>\n",
       "      <td>X</td>\n",
       "      <td>A</td>\n",
       "      <td>4</td>\n",
       "    </tr>\n",
       "  </tbody>\n",
       "</table>\n",
       "</div>"
      ],
      "text/plain": [
       "  itemid  itemname itemcost supplier grade   qty\n",
       "0      1    Pencil        4        Y     B     6\n",
       "1      2       Pen       43        X     A     1\n",
       "2      3    Duster       54        Y     C     3\n",
       "3      4     Chock       65        X     A     4\n",
       "4      5  notebook     None     None  None  None\n",
       "5      6      None     None     None  None  None\n",
       "6      7   shopner     None        Y     C  None\n",
       "7      8    Duster       54        Y     C     3\n",
       "8      9     Chock       65        X     A     4"
      ]
     },
     "execution_count": 10,
     "metadata": {},
     "output_type": "execute_result"
    }
   ],
   "source": [
    "df1=df.toPandas()\n",
    "df1"
   ]
  },
  {
   "cell_type": "code",
   "execution_count": 11,
   "id": "1c27d6b1",
   "metadata": {},
   "outputs": [
    {
     "name": "stdout",
     "output_type": "stream",
     "text": [
      "+------+--------+--------+--------+-----+----+\n",
      "|itemid|itemname|itemcost|supplier|grade| qty|\n",
      "+------+--------+--------+--------+-----+----+\n",
      "|     1|  Pencil|       4|       Y|    B|   6|\n",
      "|     2|     Pen|      43|       X|    A|   1|\n",
      "|     3|  Duster|      54|       Y|    C|   3|\n",
      "|     4|   Chock|      65|       X|    A|   4|\n",
      "|     5|notebook|    null|    null| null|null|\n",
      "|     6|    null|    null|    null| null|null|\n",
      "|     7| shopner|    null|       Y|    C|null|\n",
      "|     8|  Duster|      54|       Y|    C|   3|\n",
      "|     9|   Chock|      65|       X|    A|   4|\n",
      "+------+--------+--------+--------+-----+----+\n",
      "\n",
      "+-----+------------+\n",
      "|grade|count(grade)|\n",
      "+-----+------------+\n",
      "| null|           0|\n",
      "|    B|           1|\n",
      "|    C|           3|\n",
      "|    A|           3|\n",
      "+-----+------------+\n",
      "\n"
     ]
    }
   ],
   "source": [
    "#aggregattion tasks\n",
    "df.show()\n",
    "df.groupBy('grade').agg({'grade':'count'}).show()"
   ]
  },
  {
   "cell_type": "code",
   "execution_count": 12,
   "id": "ddbe72e8",
   "metadata": {},
   "outputs": [
    {
     "name": "stdout",
     "output_type": "stream",
     "text": [
      "+------+--------+--------+--------+-----+----+\n",
      "|   _c0|     _c1|     _c2|     _c3|  _c4| _c5|\n",
      "+------+--------+--------+--------+-----+----+\n",
      "|itemid|itemname|itemcost|supplier|grade| qty|\n",
      "|     1|  Pencil|       4|       Y|    B|   6|\n",
      "|     2|     Pen|      43|       X|    A|   1|\n",
      "|     3|  Duster|      54|       Y|    C|   3|\n",
      "|     4|   Chock|      65|       X|    A|   4|\n",
      "|     5|notebook|    null|    null| null|null|\n",
      "|     6|    null|    null|    null| null|null|\n",
      "|     7| shopner|    null|       Y|    C|null|\n",
      "|     8|  Duster|      54|       Y|    C|   3|\n",
      "|     9|   Chock|      65|       X|    A|   4|\n",
      "+------+--------+--------+--------+-----+----+\n",
      "\n"
     ]
    }
   ],
   "source": [
    "df1=spark.read.csv(\"D:\\\\items1.csv\")\n",
    "df1.show()"
   ]
  },
  {
   "cell_type": "code",
   "execution_count": 13,
   "id": "af125b55",
   "metadata": {},
   "outputs": [
    {
     "name": "stdout",
     "output_type": "stream",
     "text": [
      "+-----+----------+\n",
      "|  _c4|count(_c4)|\n",
      "+-----+----------+\n",
      "|grade|         1|\n",
      "| null|         0|\n",
      "|    B|         1|\n",
      "|    C|         3|\n",
      "|    A|         3|\n",
      "+-----+----------+\n",
      "\n"
     ]
    }
   ],
   "source": [
    "df1.groupBy('_c4').agg({'_c4':'count'}).show()"
   ]
  },
  {
   "cell_type": "code",
   "execution_count": 14,
   "id": "0adf1f63",
   "metadata": {},
   "outputs": [
    {
     "name": "stdout",
     "output_type": "stream",
     "text": [
      "+--------+-------------+\n",
      "|supplier|min(itemcost)|\n",
      "+--------+-------------+\n",
      "|    null|         null|\n",
      "|       X|           43|\n",
      "|       Y|            4|\n",
      "+--------+-------------+\n",
      "\n"
     ]
    }
   ],
   "source": [
    "df.groupBy('supplier').agg({'itemcost':'min'}).show()"
   ]
  },
  {
   "cell_type": "code",
   "execution_count": 15,
   "id": "2b529161",
   "metadata": {},
   "outputs": [
    {
     "name": "stdout",
     "output_type": "stream",
     "text": [
      "+--------+-------------+\n",
      "|supplier|max(itemcost)|\n",
      "+--------+-------------+\n",
      "|    null|         null|\n",
      "|       X|           65|\n",
      "|       Y|           54|\n",
      "+--------+-------------+\n",
      "\n"
     ]
    }
   ],
   "source": [
    "df.groupBy('supplier').agg({'itemcost':'max'}).show()"
   ]
  },
  {
   "cell_type": "code",
   "execution_count": 16,
   "id": "27f2a9ec",
   "metadata": {},
   "outputs": [
    {
     "name": "stdout",
     "output_type": "stream",
     "text": [
      "+------+-------------+-------------+-------------+-------------+\n",
      "|itemid|max(supplier)|min(supplier)|avg(supplier)|sum(supplier)|\n",
      "+------+-------------+-------------+-------------+-------------+\n",
      "|     1|            Y|            Y|         null|         null|\n",
      "|     2|            X|            X|         null|         null|\n",
      "|     3|            Y|            Y|         null|         null|\n",
      "|     4|            X|            X|         null|         null|\n",
      "|     5|         null|         null|         null|         null|\n",
      "|     6|         null|         null|         null|         null|\n",
      "|     7|            Y|            Y|         null|         null|\n",
      "|     8|            Y|            Y|         null|         null|\n",
      "|     9|            X|            X|         null|         null|\n",
      "+------+-------------+-------------+-------------+-------------+\n",
      "\n"
     ]
    }
   ],
   "source": [
    "from pyspark.sql import functions as f\n",
    "df.groupBy('itemid').agg(f.max('supplier'),f.min('supplier'),\n",
    "                        f.avg('supplier'),f.sum('supplier')).show()\n"
   ]
  },
  {
   "cell_type": "code",
   "execution_count": 17,
   "id": "cbfe486e",
   "metadata": {},
   "outputs": [
    {
     "data": {
      "text/plain": [
       "84"
      ]
     },
     "execution_count": 17,
     "metadata": {},
     "output_type": "execute_result"
    }
   ],
   "source": [
    "df.rdd.id()"
   ]
  },
  {
   "cell_type": "code",
   "execution_count": 18,
   "id": "30e0e22f",
   "metadata": {},
   "outputs": [
    {
     "data": {
      "text/plain": [
       "84"
      ]
     },
     "execution_count": 18,
     "metadata": {},
     "output_type": "execute_result"
    }
   ],
   "source": [
    "df1=df\n",
    "df1.rdd.id()"
   ]
  },
  {
   "cell_type": "code",
   "execution_count": 19,
   "id": "a41f37ac",
   "metadata": {},
   "outputs": [
    {
     "data": {
      "text/plain": [
       "90"
      ]
     },
     "execution_count": 19,
     "metadata": {},
     "output_type": "execute_result"
    }
   ],
   "source": [
    "df2=df.withColumn('Bill',df['itemcost']*df['itemid'])\n",
    "df2.rdd.id()"
   ]
  },
  {
   "cell_type": "raw",
   "id": "7328a35f",
   "metadata": {},
   "source": []
  },
  {
   "cell_type": "code",
   "execution_count": 20,
   "id": "26de02fc",
   "metadata": {},
   "outputs": [],
   "source": [
    "df4=df.withColumn('Tax',df['itemcost']+2000)"
   ]
  },
  {
   "cell_type": "code",
   "execution_count": 21,
   "id": "7a286596",
   "metadata": {},
   "outputs": [
    {
     "data": {
      "text/plain": [
       "[Row(itemid='1', itemname='Pencil', itemcost='4', supplier='Y', grade='B', qty='6', Tax=2004.0),\n",
       " Row(itemid='2', itemname='Pen', itemcost='43', supplier='X', grade='A', qty='1', Tax=2043.0),\n",
       " Row(itemid='3', itemname='Duster', itemcost='54', supplier='Y', grade='C', qty='3', Tax=2054.0),\n",
       " Row(itemid='4', itemname='Chock', itemcost='65', supplier='X', grade='A', qty='4', Tax=2065.0),\n",
       " Row(itemid='5', itemname='notebook', itemcost=None, supplier=None, grade=None, qty=None, Tax=None),\n",
       " Row(itemid='6', itemname=None, itemcost=None, supplier=None, grade=None, qty=None, Tax=None),\n",
       " Row(itemid='7', itemname='shopner', itemcost=None, supplier='Y', grade='C', qty=None, Tax=None),\n",
       " Row(itemid='8', itemname='Duster', itemcost='54', supplier='Y', grade='C', qty='3', Tax=2054.0),\n",
       " Row(itemid='9', itemname='Chock', itemcost='65', supplier='X', grade='A', qty='4', Tax=2065.0)]"
      ]
     },
     "execution_count": 21,
     "metadata": {},
     "output_type": "execute_result"
    }
   ],
   "source": [
    "rowslst=df4.collect()\n",
    "rowslst"
   ]
  },
  {
   "cell_type": "code",
   "execution_count": 22,
   "id": "2b6a6200",
   "metadata": {},
   "outputs": [
    {
     "name": "stdout",
     "output_type": "stream",
     "text": [
      "+------+--------+--------+--------+-----+----+\n",
      "|itemid|itemname|itemcost|supplier|grade| qty|\n",
      "+------+--------+--------+--------+-----+----+\n",
      "|     1|  Pencil|       4|       Y|    B|   6|\n",
      "|     2|     Pen|      43|       X|    A|   1|\n",
      "|     3|  Duster|      54|       Y|    C|   3|\n",
      "|     4|   Chock|      65|       X|    A|   4|\n",
      "|     5|notebook|    null|    null| null|null|\n",
      "|     6|    null|    null|    null| null|null|\n",
      "|     7| shopner|    null|       Y|    C|null|\n",
      "|     8|  Duster|      54|       Y|    C|   3|\n",
      "|     9|   Chock|      65|       X|    A|   4|\n",
      "+------+--------+--------+--------+-----+----+\n",
      "\n"
     ]
    }
   ],
   "source": [
    "df=spark.read.option(\"header\",\"true\").csv(\"D:\\\\items1.csv\",header=True,inferSchema=True)\n",
    "df.show()"
   ]
  },
  {
   "cell_type": "code",
   "execution_count": 23,
   "id": "a1e19ccd",
   "metadata": {},
   "outputs": [
    {
     "data": {
      "text/plain": [
       "['itemid', 'itemname', 'itemcost', 'supplier', 'grade', 'qty']"
      ]
     },
     "execution_count": 23,
     "metadata": {},
     "output_type": "execute_result"
    }
   ],
   "source": [
    "df.columns\n"
   ]
  },
  {
   "cell_type": "code",
   "execution_count": 24,
   "id": "e3135050",
   "metadata": {},
   "outputs": [
    {
     "data": {
      "text/plain": [
       "[Row(itemid=1, itemname='Pencil', itemcost=4, supplier='Y', grade='B', qty=6),\n",
       " Row(itemid=2, itemname='Pen', itemcost=43, supplier='X', grade='A', qty=1),\n",
       " Row(itemid=3, itemname='Duster', itemcost=54, supplier='Y', grade='C', qty=3),\n",
       " Row(itemid=4, itemname='Chock', itemcost=65, supplier='X', grade='A', qty=4)]"
      ]
     },
     "execution_count": 24,
     "metadata": {},
     "output_type": "execute_result"
    }
   ],
   "source": [
    "df.head(4)"
   ]
  },
  {
   "cell_type": "code",
   "execution_count": 25,
   "id": "5bdfbd84",
   "metadata": {},
   "outputs": [
    {
     "name": "stdout",
     "output_type": "stream",
     "text": [
      "+------+\n",
      "|itemid|\n",
      "+------+\n",
      "|     1|\n",
      "|     2|\n",
      "|     3|\n",
      "|     4|\n",
      "|     5|\n",
      "|     6|\n",
      "|     7|\n",
      "|     8|\n",
      "|     9|\n",
      "+------+\n",
      "\n"
     ]
    }
   ],
   "source": [
    "df.select('itemid').show()"
   ]
  },
  {
   "cell_type": "code",
   "execution_count": 26,
   "id": "efe03c62",
   "metadata": {},
   "outputs": [
    {
     "data": {
      "text/plain": [
       "[Row(itemid=1, itemname='Pencil', itemcost=4, supplier='Y', grade='B', qty=6),\n",
       " Row(itemid=2, itemname='Pen', itemcost=43, supplier='X', grade='A', qty=1),\n",
       " Row(itemid=3, itemname='Duster', itemcost=54, supplier='Y', grade='C', qty=3)]"
      ]
     },
     "execution_count": 26,
     "metadata": {},
     "output_type": "execute_result"
    }
   ],
   "source": [
    "df.head(3)"
   ]
  },
  {
   "cell_type": "code",
   "execution_count": 27,
   "id": "aad05ab1",
   "metadata": {},
   "outputs": [
    {
     "data": {
      "text/plain": [
       "[('itemid', 'int'),\n",
       " ('itemname', 'string'),\n",
       " ('itemcost', 'int'),\n",
       " ('supplier', 'string'),\n",
       " ('grade', 'string'),\n",
       " ('qty', 'int')]"
      ]
     },
     "execution_count": 27,
     "metadata": {},
     "output_type": "execute_result"
    }
   ],
   "source": [
    "df.dtypes"
   ]
  },
  {
   "cell_type": "code",
   "execution_count": 28,
   "id": "0bf7e60b",
   "metadata": {},
   "outputs": [
    {
     "name": "stdout",
     "output_type": "stream",
     "text": [
      "root\n",
      " |-- itemid: integer (nullable = true)\n",
      " |-- itemname: string (nullable = true)\n",
      " |-- itemcost: integer (nullable = true)\n",
      " |-- supplier: string (nullable = true)\n",
      " |-- grade: string (nullable = true)\n",
      " |-- qty: integer (nullable = true)\n",
      "\n"
     ]
    }
   ],
   "source": [
    "df.printSchema()"
   ]
  },
  {
   "cell_type": "code",
   "execution_count": 29,
   "id": "dfab0e3a",
   "metadata": {},
   "outputs": [
    {
     "name": "stdout",
     "output_type": "stream",
     "text": [
      "+------+--------+--------+--------+-----+----+----+\n",
      "|itemid|itemname|itemcost|supplier|grade| qty|Bill|\n",
      "+------+--------+--------+--------+-----+----+----+\n",
      "|     1|  Pencil|       4|       Y|    B|   6|   4|\n",
      "|     2|     Pen|      43|       X|    A|   1|  86|\n",
      "|     3|  Duster|      54|       Y|    C|   3| 162|\n",
      "|     4|   Chock|      65|       X|    A|   4| 260|\n",
      "|     5|notebook|    null|    null| null|null|null|\n",
      "|     6|    null|    null|    null| null|null|null|\n",
      "|     7| shopner|    null|       Y|    C|null|null|\n",
      "|     8|  Duster|      54|       Y|    C|   3| 432|\n",
      "|     9|   Chock|      65|       X|    A|   4| 585|\n",
      "+------+--------+--------+--------+-----+----+----+\n",
      "\n"
     ]
    }
   ],
   "source": [
    "df2=df.withColumn('Bill',df['itemcost']*df['itemid'])\n",
    "df2.show()"
   ]
  },
  {
   "cell_type": "code",
   "execution_count": 30,
   "id": "e098d225",
   "metadata": {},
   "outputs": [
    {
     "name": "stdout",
     "output_type": "stream",
     "text": [
      "+------+--------+--------+--------+-----+--------+\n",
      "|itemid|itemname|itemcost|supplier|grade|Quantity|\n",
      "+------+--------+--------+--------+-----+--------+\n",
      "|     1|  Pencil|       4|       Y|    B|       6|\n",
      "|     2|     Pen|      43|       X|    A|       1|\n",
      "|     3|  Duster|      54|       Y|    C|       3|\n",
      "|     4|   Chock|      65|       X|    A|       4|\n",
      "|     5|notebook|    null|    null| null|    null|\n",
      "|     6|    null|    null|    null| null|    null|\n",
      "|     7| shopner|    null|       Y|    C|    null|\n",
      "|     8|  Duster|      54|       Y|    C|       3|\n",
      "|     9|   Chock|      65|       X|    A|       4|\n",
      "+------+--------+--------+--------+-----+--------+\n",
      "\n"
     ]
    }
   ],
   "source": [
    "#Rename Column\n",
    "df.withColumnRenamed('qty','Quantity').show()"
   ]
  },
  {
   "cell_type": "code",
   "execution_count": 31,
   "id": "4b6f12c3",
   "metadata": {},
   "outputs": [
    {
     "name": "stdout",
     "output_type": "stream",
     "text": [
      "+------+--------+--------+--------+-----+----+\n",
      "|itemid|itemname|itemcost|supplier|grade| qty|\n",
      "+------+--------+--------+--------+-----+----+\n",
      "|     1|  Pencil|       4|       Y|    B|   6|\n",
      "|     2|     Pen|      43|       X|    A|   1|\n",
      "|     3|  Duster|      54|       Y|    C|   3|\n",
      "|     4|   Chock|      65|       X|    A|   4|\n",
      "|     5|notebook|    null|    null| null|null|\n",
      "|     6|    null|    null|    null| null|null|\n",
      "|     7| shopner|    null|       Y|    C|null|\n",
      "|     8|  Duster|      54|       Y|    C|   3|\n",
      "|     9|   Chock|      65|       X|    A|   4|\n",
      "+------+--------+--------+--------+-----+----+\n",
      "\n"
     ]
    }
   ],
   "source": [
    "#Drop Column\n",
    "df2.drop('Bill').show()"
   ]
  },
  {
   "cell_type": "code",
   "execution_count": 32,
   "id": "2f2969db",
   "metadata": {},
   "outputs": [
    {
     "name": "stdout",
     "output_type": "stream",
     "text": [
      "+------+--------+--------+--------+-----+---+\n",
      "|itemid|itemname|itemcost|supplier|grade|qty|\n",
      "+------+--------+--------+--------+-----+---+\n",
      "|     1|  Pencil|       4|       Y|    B|  6|\n",
      "|     2|     Pen|      43|       X|    A|  1|\n",
      "|     3|  Duster|      54|       Y|    C|  3|\n",
      "|     4|   Chock|      65|       X|    A|  4|\n",
      "|     8|  Duster|      54|       Y|    C|  3|\n",
      "|     9|   Chock|      65|       X|    A|  4|\n",
      "+------+--------+--------+--------+-----+---+\n",
      "\n"
     ]
    }
   ],
   "source": [
    "#drop null value\n",
    "df1.na.drop(how=\"any\").show()"
   ]
  },
  {
   "cell_type": "code",
   "execution_count": 33,
   "id": "f1ea7cb8",
   "metadata": {},
   "outputs": [
    {
     "name": "stdout",
     "output_type": "stream",
     "text": [
      "+------+--------+--------+--------+-----+----+\n",
      "|itemid|itemname|itemcost|supplier|grade| qty|\n",
      "+------+--------+--------+--------+-----+----+\n",
      "|     1|  Pencil|       4|       Y|    B|   6|\n",
      "|     2|     Pen|      43|       X|    A|   1|\n",
      "|     3|  Duster|      54|       Y|    C|   3|\n",
      "|     4|   Chock|      65|       X|    A|   4|\n",
      "|     5|notebook|    null|    null| null|null|\n",
      "|     6|    null|    null|    null| null|null|\n",
      "|     7| shopner|    null|       Y|    C|null|\n",
      "|     8|  Duster|      54|       Y|    C|   3|\n",
      "|     9|   Chock|      65|       X|    A|   4|\n",
      "+------+--------+--------+--------+-----+----+\n",
      "\n"
     ]
    }
   ],
   "source": [
    "\n",
    "df.show()"
   ]
  },
  {
   "cell_type": "code",
   "execution_count": 34,
   "id": "39bb839f",
   "metadata": {},
   "outputs": [
    {
     "name": "stdout",
     "output_type": "stream",
     "text": [
      "+------+------------+--------+------------+------------+----+\n",
      "|itemid|    itemname|itemcost|    supplier|       grade| qty|\n",
      "+------+------------+--------+------------+------------+----+\n",
      "|     1|      Pencil|       4|           Y|           B|   6|\n",
      "|     2|         Pen|      43|           X|           A|   1|\n",
      "|     3|      Duster|      54|           Y|           C|   3|\n",
      "|     4|       Chock|      65|           X|           A|   4|\n",
      "|     5|    notebook|    null|Not Provided|Not Provided|null|\n",
      "|     6|Not Provided|    null|Not Provided|Not Provided|null|\n",
      "|     7|     shopner|    null|           Y|           C|null|\n",
      "|     8|      Duster|      54|           Y|           C|   3|\n",
      "|     9|       Chock|      65|           X|           A|   4|\n",
      "+------+------------+--------+------------+------------+----+\n",
      "\n"
     ]
    }
   ],
   "source": [
    "df.na.fill('Not Provided').show()"
   ]
  },
  {
   "cell_type": "code",
   "execution_count": 35,
   "id": "f1fcd5f6",
   "metadata": {},
   "outputs": [
    {
     "name": "stdout",
     "output_type": "stream",
     "text": [
      "+------+--------+--------+--------+-----+---+\n",
      "|itemid|itemname|itemcost|supplier|grade|qty|\n",
      "+------+--------+--------+--------+-----+---+\n",
      "|     1|  Pencil|       4|       Y|    B|  6|\n",
      "|     2|     Pen|      43|       X|    A|  1|\n",
      "|     3|  Duster|      54|       Y|    C|  3|\n",
      "|     4|   Chock|      65|       X|    A|  4|\n",
      "|     5|notebook|     999|    null| null|999|\n",
      "|     6|    null|     999|    null| null|999|\n",
      "|     7| shopner|     999|       Y|    C|999|\n",
      "|     8|  Duster|      54|       Y|    C|  3|\n",
      "|     9|   Chock|      65|       X|    A|  4|\n",
      "+------+--------+--------+--------+-----+---+\n",
      "\n"
     ]
    }
   ],
   "source": [
    "df.na.fill(999).show()"
   ]
  },
  {
   "cell_type": "code",
   "execution_count": 36,
   "id": "d15c4410",
   "metadata": {},
   "outputs": [
    {
     "name": "stdout",
     "output_type": "stream",
     "text": [
      "+------+--------+--------+--------+-----+----+\n",
      "|itemid|itemname|itemcost|supplier|grade| qty|\n",
      "+------+--------+--------+--------+-----+----+\n",
      "|     1|  Pencil|       4|       Y|    B|   6|\n",
      "|     2|     Pen|      43|       X|    A|   1|\n",
      "|     3|  Duster|      54|       Y|    C|   3|\n",
      "|     4|   Chock|      65|       X|    A|   4|\n",
      "|     5|notebook|    null|    null| null|null|\n",
      "|     6|    null|    null|    null| null|null|\n",
      "|     7| shopner|    null|       Y|    C|null|\n",
      "|     8|  Duster|      54|       Y|    C|   3|\n",
      "|     9|   Chock|      65|       X|    A|   4|\n",
      "+------+--------+--------+--------+-----+----+\n",
      "\n"
     ]
    }
   ],
   "source": [
    "df.show()"
   ]
  },
  {
   "cell_type": "code",
   "execution_count": 37,
   "id": "555fa972",
   "metadata": {},
   "outputs": [
    {
     "name": "stdout",
     "output_type": "stream",
     "text": [
      "+------+--------+--------+--------+-----+----+\n",
      "|itemid|itemname|itemcost|supplier|grade| qty|\n",
      "+------+--------+--------+--------+-----+----+\n",
      "|     1|  Pencil|       4|       Y|    B|   6|\n",
      "|     2|     Pen|      43|       X|    A|   1|\n",
      "|     3|  Duster|      54|       Y|    C|   3|\n",
      "|     4|   Chock|      65|       X|    A|   4|\n",
      "|     7| shopner|    null|       Y|    C|null|\n",
      "|     8|  Duster|      54|       Y|    C|   3|\n",
      "|     9|   Chock|      65|       X|    A|   4|\n",
      "+------+--------+--------+--------+-----+----+\n",
      "\n"
     ]
    }
   ],
   "source": [
    "df.na.drop(how='any',thresh=3).show()#minimum 3 nonnul value has to there"
   ]
  },
  {
   "cell_type": "code",
   "execution_count": 38,
   "id": "05f6f701",
   "metadata": {},
   "outputs": [
    {
     "name": "stdout",
     "output_type": "stream",
     "text": [
      "+------+--------+--------+--------+-----+----+\n",
      "|itemid|itemname|itemcost|supplier|grade| qty|\n",
      "+------+--------+--------+--------+-----+----+\n",
      "|     1|  Pencil|       4|       Y|    B|   6|\n",
      "|     2|     Pen|      43|       X|    A|   1|\n",
      "|     3|  Duster|      54|       Y|    C|   3|\n",
      "|     4|   Chock|      65|       X|    A|   4|\n",
      "|     5|notebook|    null|    null| null|null|\n",
      "|     6|    null|    null|    null| null|null|\n",
      "|     7| shopner|    null|       Y|    C|null|\n",
      "|     8|  Duster|      54|       Y|    C|   3|\n",
      "|     9|   Chock|      65|       X|    A|   4|\n",
      "+------+--------+--------+--------+-----+----+\n",
      "\n"
     ]
    }
   ],
   "source": [
    "df.na.drop(subset=['itemid']).show()\n"
   ]
  },
  {
   "cell_type": "code",
   "execution_count": 39,
   "id": "e7c259ab",
   "metadata": {},
   "outputs": [
    {
     "name": "stdout",
     "output_type": "stream",
     "text": [
      "+------+--------+--------+--------+-----+---+\n",
      "|itemid|itemname|itemcost|supplier|grade|qty|\n",
      "+------+--------+--------+--------+-----+---+\n",
      "|     1|  Pencil|       4|       Y|    B|  6|\n",
      "|     2|     Pen|      43|       X|    A|  1|\n",
      "|     3|  Duster|      54|       Y|    C|  3|\n",
      "|     4|   Chock|      65|       X|    A|  4|\n",
      "|     5|notebook|       0|    null| null|  0|\n",
      "|     6|    null|       0|    null| null|  0|\n",
      "|     7| shopner|       0|       Y|    C|  0|\n",
      "|     8|  Duster|      54|       Y|    C|  3|\n",
      "|     9|   Chock|      65|       X|    A|  4|\n",
      "+------+--------+--------+--------+-----+---+\n",
      "\n"
     ]
    }
   ],
   "source": [
    "df.na.fill(0).show()"
   ]
  },
  {
   "cell_type": "code",
   "execution_count": 40,
   "id": "9cf45532",
   "metadata": {},
   "outputs": [
    {
     "name": "stdout",
     "output_type": "stream",
     "text": [
      "+------+--------+--------+--------+-----+----+\n",
      "|itemid|itemname|itemcost|supplier|grade| qty|\n",
      "+------+--------+--------+--------+-----+----+\n",
      "|     1|  Pencil|       4|       Y|    B|   6|\n",
      "|     2|     Pen|      43|       X|    A|   1|\n",
      "|     3|  Duster|      54|       Y|    C|   3|\n",
      "|     4|   Chock|      65|       X|    A|   4|\n",
      "|     5|notebook|       0|    null| null|null|\n",
      "|     6|    null|       0|    null| null|null|\n",
      "|     7| shopner|       0|       Y|    C|null|\n",
      "|     8|  Duster|      54|       Y|    C|   3|\n",
      "|     9|   Chock|      65|       X|    A|   4|\n",
      "+------+--------+--------+--------+-----+----+\n",
      "\n"
     ]
    }
   ],
   "source": [
    "df.na.fill(0,['itemcost']).show()"
   ]
  },
  {
   "cell_type": "code",
   "execution_count": 41,
   "id": "a3f3b63e",
   "metadata": {},
   "outputs": [
    {
     "name": "stdout",
     "output_type": "stream",
     "text": [
      "+------+--------+--------+--------+-----+---+\n",
      "|itemid|itemname|itemcost|supplier|grade|qty|\n",
      "+------+--------+--------+--------+-----+---+\n",
      "|     1|  Pencil|       4|       Y|    B|  6|\n",
      "|     2|     Pen|      43|       X|    A|  1|\n",
      "|     3|  Duster|      54|       Y|    C|  3|\n",
      "|     4|   Chock|      65|       X|    A|  4|\n",
      "|     5|notebook|       0|    null| null|  0|\n",
      "|     6|    null|       0|    null| null|  0|\n",
      "|     7| shopner|       0|       Y|    C|  0|\n",
      "|     8|  Duster|      54|       Y|    C|  3|\n",
      "|     9|   Chock|      65|       X|    A|  4|\n",
      "+------+--------+--------+--------+-----+---+\n",
      "\n"
     ]
    }
   ],
   "source": [
    "df.na.fill(0,['itemcost','qty']).show()"
   ]
  },
  {
   "cell_type": "code",
   "execution_count": 42,
   "id": "79ab3c11",
   "metadata": {},
   "outputs": [
    {
     "name": "stdout",
     "output_type": "stream",
     "text": [
      "+-------------+\n",
      "|avg(itemcost)|\n",
      "+-------------+\n",
      "|         47.5|\n",
      "+-------------+\n",
      "\n"
     ]
    }
   ],
   "source": [
    "from pyspark.sql import functions as f\n",
    "df.agg(f.mean('itemcost')).show()"
   ]
  },
  {
   "cell_type": "code",
   "execution_count": 43,
   "id": "73de84aa",
   "metadata": {
    "scrolled": true
   },
   "outputs": [],
   "source": [
    "#type casting in spark\n",
    "#*f.mean(df['itemcost'])."
   ]
  },
  {
   "cell_type": "code",
   "execution_count": 44,
   "id": "a42437b8",
   "metadata": {},
   "outputs": [],
   "source": [
    "from pyspark.ml.feature import Imputer\n",
    "imp =Imputer(inputCols=['itemcost','qty'],\n",
    "            outputCols=['{}_Imputed'.format(c) for c in ['itemcost','qty']]).setStrategy(\"mean\")"
   ]
  },
  {
   "cell_type": "code",
   "execution_count": 45,
   "id": "96708893",
   "metadata": {},
   "outputs": [
    {
     "name": "stdout",
     "output_type": "stream",
     "text": [
      "+------+--------+--------+--------+-----+----+----------------+-----------+\n",
      "|itemid|itemname|itemcost|supplier|grade| qty|itemcost_Imputed|qty_Imputed|\n",
      "+------+--------+--------+--------+-----+----+----------------+-----------+\n",
      "|     1|  Pencil|       4|       Y|    B|   6|               4|          6|\n",
      "|     2|     Pen|      43|       X|    A|   1|              43|          1|\n",
      "|     3|  Duster|      54|       Y|    C|   3|              54|          3|\n",
      "|     4|   Chock|      65|       X|    A|   4|              65|          4|\n",
      "|     5|notebook|    null|    null| null|null|              47|          3|\n",
      "|     6|    null|    null|    null| null|null|              47|          3|\n",
      "|     7| shopner|    null|       Y|    C|null|              47|          3|\n",
      "|     8|  Duster|      54|       Y|    C|   3|              54|          3|\n",
      "|     9|   Chock|      65|       X|    A|   4|              65|          4|\n",
      "+------+--------+--------+--------+-----+----+----------------+-----------+\n",
      "\n"
     ]
    }
   ],
   "source": [
    "imp.fit(df).transform(df).show()"
   ]
  },
  {
   "cell_type": "code",
   "execution_count": 46,
   "id": "a8b21edf",
   "metadata": {},
   "outputs": [],
   "source": [
    "from pyspark.ml.feature import Imputer\n",
    "imp =Imputer(inputCols=['itemcost','qty'],\n",
    "            outputCols=['{}_Imputed'.format(c) for c in ['itemcost','qty']]).setStrategy(\"median\")\n"
   ]
  },
  {
   "cell_type": "code",
   "execution_count": 47,
   "id": "fc4a4242",
   "metadata": {},
   "outputs": [
    {
     "name": "stdout",
     "output_type": "stream",
     "text": [
      "+------+--------+--------+--------+-----+----+----------------+-----------+\n",
      "|itemid|itemname|itemcost|supplier|grade| qty|itemcost_Imputed|qty_Imputed|\n",
      "+------+--------+--------+--------+-----+----+----------------+-----------+\n",
      "|     1|  Pencil|       4|       Y|    B|   6|               4|          6|\n",
      "|     2|     Pen|      43|       X|    A|   1|              43|          1|\n",
      "|     3|  Duster|      54|       Y|    C|   3|              54|          3|\n",
      "|     4|   Chock|      65|       X|    A|   4|              65|          4|\n",
      "|     5|notebook|    null|    null| null|null|              54|          3|\n",
      "|     6|    null|    null|    null| null|null|              54|          3|\n",
      "|     7| shopner|    null|       Y|    C|null|              54|          3|\n",
      "|     8|  Duster|      54|       Y|    C|   3|              54|          3|\n",
      "|     9|   Chock|      65|       X|    A|   4|              65|          4|\n",
      "+------+--------+--------+--------+-----+----+----------------+-----------+\n",
      "\n"
     ]
    }
   ],
   "source": [
    "imp.fit(df).transform(df).show()"
   ]
  },
  {
   "cell_type": "code",
   "execution_count": 48,
   "id": "8eaf73b3",
   "metadata": {},
   "outputs": [],
   "source": [
    "from pyspark.ml.feature import Imputer\n",
    "imp =Imputer(inputCols=['itemcost','qty'],\n",
    "            outputCols=['{}_Imputed'.format(c) for c in ['itemcost','qty']]).setStrategy(\"mode\")\n"
   ]
  },
  {
   "cell_type": "code",
   "execution_count": 49,
   "id": "601b3a9c",
   "metadata": {},
   "outputs": [
    {
     "name": "stdout",
     "output_type": "stream",
     "text": [
      "+------+--------+--------+--------+-----+----+----------------+-----------+\n",
      "|itemid|itemname|itemcost|supplier|grade| qty|itemcost_Imputed|qty_Imputed|\n",
      "+------+--------+--------+--------+-----+----+----------------+-----------+\n",
      "|     1|  Pencil|       4|       Y|    B|   6|               4|          6|\n",
      "|     2|     Pen|      43|       X|    A|   1|              43|          1|\n",
      "|     3|  Duster|      54|       Y|    C|   3|              54|          3|\n",
      "|     4|   Chock|      65|       X|    A|   4|              65|          4|\n",
      "|     5|notebook|    null|    null| null|null|              54|          3|\n",
      "|     6|    null|    null|    null| null|null|              54|          3|\n",
      "|     7| shopner|    null|       Y|    C|null|              54|          3|\n",
      "|     8|  Duster|      54|       Y|    C|   3|              54|          3|\n",
      "|     9|   Chock|      65|       X|    A|   4|              65|          4|\n",
      "+------+--------+--------+--------+-----+----+----------------+-----------+\n",
      "\n"
     ]
    }
   ],
   "source": [
    "imp.fit(df).transform(df).show()"
   ]
  },
  {
   "cell_type": "code",
   "execution_count": 50,
   "id": "a96430dc",
   "metadata": {},
   "outputs": [
    {
     "name": "stdout",
     "output_type": "stream",
     "text": [
      "+------+--------+--------+--------+-----+---+\n",
      "|itemid|itemname|itemcost|supplier|grade|qty|\n",
      "+------+--------+--------+--------+-----+---+\n",
      "|     2|     Pen|      43|       X|    A|  1|\n",
      "|     3|  Duster|      54|       Y|    C|  3|\n",
      "|     4|   Chock|      65|       X|    A|  4|\n",
      "|     8|  Duster|      54|       Y|    C|  3|\n",
      "|     9|   Chock|      65|       X|    A|  4|\n",
      "+------+--------+--------+--------+-----+---+\n",
      "\n"
     ]
    }
   ],
   "source": [
    "df.filter(\"itemcost>=5\").show()"
   ]
  },
  {
   "cell_type": "code",
   "execution_count": 51,
   "id": "98d98415",
   "metadata": {},
   "outputs": [
    {
     "name": "stdout",
     "output_type": "stream",
     "text": [
      "+------+--------+--------+--------+-----+---+\n",
      "|itemid|itemname|itemcost|supplier|grade|qty|\n",
      "+------+--------+--------+--------+-----+---+\n",
      "|     2|     Pen|      43|       X|    A|  1|\n",
      "|     3|  Duster|      54|       Y|    C|  3|\n",
      "|     4|   Chock|      65|       X|    A|  4|\n",
      "|     8|  Duster|      54|       Y|    C|  3|\n",
      "|     9|   Chock|      65|       X|    A|  4|\n",
      "+------+--------+--------+--------+-----+---+\n",
      "\n"
     ]
    }
   ],
   "source": [
    "df.filter(df[\"itemcost\"]>=10).show()"
   ]
  },
  {
   "cell_type": "code",
   "execution_count": 52,
   "id": "486d6799",
   "metadata": {},
   "outputs": [
    {
     "name": "stdout",
     "output_type": "stream",
     "text": [
      "+------+--------+--------+--------+-----+---+\n",
      "|itemid|itemname|itemcost|supplier|grade|qty|\n",
      "+------+--------+--------+--------+-----+---+\n",
      "|     1|  Pencil|       4|       Y|    B|  6|\n",
      "|     2|     Pen|      43|       X|    A|  1|\n",
      "|     3|  Duster|      54|       Y|    C|  3|\n",
      "|     4|   Chock|      65|       X|    A|  4|\n",
      "|     8|  Duster|      54|       Y|    C|  3|\n",
      "|     9|   Chock|      65|       X|    A|  4|\n",
      "+------+--------+--------+--------+-----+---+\n",
      "\n"
     ]
    }
   ],
   "source": [
    "df.filter(~(df[\"itemcost\"]>=100)).show()"
   ]
  },
  {
   "cell_type": "code",
   "execution_count": 53,
   "id": "f3606d87",
   "metadata": {},
   "outputs": [
    {
     "name": "stdout",
     "output_type": "stream",
     "text": [
      "+------+--------+--------+--------+-----+---+\n",
      "|itemid|itemname|itemcost|supplier|grade|qty|\n",
      "+------+--------+--------+--------+-----+---+\n",
      "+------+--------+--------+--------+-----+---+\n",
      "\n"
     ]
    }
   ],
   "source": [
    "df.filter((df[\"itemname\"]>=1) & (df[\"qty\"]<=1)).show()\n"
   ]
  },
  {
   "cell_type": "code",
   "execution_count": 54,
   "id": "8307d7a9",
   "metadata": {},
   "outputs": [
    {
     "name": "stdout",
     "output_type": "stream",
     "text": [
      "+------+--------+--------+--------+-----+----+\n",
      "|itemid|itemname|itemcost|supplier|grade| qty|\n",
      "+------+--------+--------+--------+-----+----+\n",
      "|     1|  Pencil|       4|       Y|    B|   6|\n",
      "|     2|     Pen|      43|       X|    A|   1|\n",
      "|     3|  Duster|      54|       Y|    C|   3|\n",
      "|     4|   Chock|      65|       X|    A|   4|\n",
      "|     5|notebook|    null|    null| null|null|\n",
      "|     6|    null|    null|    null| null|null|\n",
      "|     7| shopner|    null|       Y|    C|null|\n",
      "|     8|  Duster|      54|       Y|    C|   3|\n",
      "|     9|   Chock|      65|       X|    A|   4|\n",
      "+------+--------+--------+--------+-----+----+\n",
      "\n",
      "+------+--------+--------+--------+-----+----+\n",
      "|itemid|itemname|itemcost|supplier|grade| qty|\n",
      "+------+--------+--------+--------+-----+----+\n",
      "|     5|notebook|    null|    null| null|null|\n",
      "|     2|     Pen|      43|       X|    A|   1|\n",
      "|     1|  Pencil|       4|       Y|    B|   6|\n",
      "+------+--------+--------+--------+-----+----+\n",
      "\n"
     ]
    }
   ],
   "source": [
    "df.show()\n",
    "df.dropDuplicates([\"supplier\"]).show()"
   ]
  },
  {
   "cell_type": "code",
   "execution_count": 55,
   "id": "b6c44906",
   "metadata": {
    "scrolled": true
   },
   "outputs": [
    {
     "name": "stdout",
     "output_type": "stream",
     "text": [
      "+------+--------+--------+--------+-----+----+\n",
      "|itemid|itemname|itemcost|supplier|grade| qty|\n",
      "+------+--------+--------+--------+-----+----+\n",
      "|     3|  Duster|      54|       Y|    C|   3|\n",
      "|     6|    null|    null|    null| null|null|\n",
      "|     5|notebook|    null|    null| null|null|\n",
      "|     9|   Chock|      65|       X|    A|   4|\n",
      "|     2|     Pen|      43|       X|    A|   1|\n",
      "|     4|   Chock|      65|       X|    A|   4|\n",
      "|     1|  Pencil|       4|       Y|    B|   6|\n",
      "|     7| shopner|    null|       Y|    C|null|\n",
      "|     8|  Duster|      54|       Y|    C|   3|\n",
      "+------+--------+--------+--------+-----+----+\n",
      "\n"
     ]
    }
   ],
   "source": [
    "df.distinct().show()\n",
    "#"
   ]
  },
  {
   "cell_type": "code",
   "execution_count": 56,
   "id": "d782ff93",
   "metadata": {},
   "outputs": [
    {
     "name": "stdout",
     "output_type": "stream",
     "text": [
      "+--------+\n",
      "|supplier|\n",
      "+--------+\n",
      "|       Y|\n",
      "|       X|\n",
      "|       Y|\n",
      "|       X|\n",
      "|    null|\n",
      "|    null|\n",
      "|       Y|\n",
      "|       Y|\n",
      "|       X|\n",
      "+--------+\n",
      "\n"
     ]
    }
   ],
   "source": [
    "df.select(\"supplier\").show()"
   ]
  },
  {
   "cell_type": "code",
   "execution_count": 57,
   "id": "9fb7a9d8",
   "metadata": {},
   "outputs": [
    {
     "name": "stdout",
     "output_type": "stream",
     "text": [
      "+--------+\n",
      "|supplier|\n",
      "+--------+\n",
      "|    null|\n",
      "|       Y|\n",
      "|       X|\n",
      "+--------+\n",
      "\n"
     ]
    }
   ],
   "source": [
    "df.select(\"supplier\").distinct().show()"
   ]
  },
  {
   "cell_type": "code",
   "execution_count": 58,
   "id": "4dd042ff",
   "metadata": {},
   "outputs": [
    {
     "name": "stdout",
     "output_type": "stream",
     "text": [
      "root\n",
      " |-- itemid: integer (nullable = true)\n",
      " |-- itemname: string (nullable = true)\n",
      " |-- itemcost: integer (nullable = true)\n",
      " |-- supplier: string (nullable = true)\n",
      " |-- grade: string (nullable = true)\n",
      " |-- qty: integer (nullable = true)\n",
      "\n"
     ]
    }
   ],
   "source": [
    "df.printSchema()"
   ]
  },
  {
   "cell_type": "code",
   "execution_count": 59,
   "id": "8eb20062",
   "metadata": {},
   "outputs": [
    {
     "name": "stdout",
     "output_type": "stream",
     "text": [
      "root\n",
      " |-- itemid: integer (nullable = true)\n",
      " |-- itemname: string (nullable = true)\n",
      " |-- itemcost: integer (nullable = true)\n",
      " |-- supplier: string (nullable = true)\n",
      " |-- grade: string (nullable = true)\n",
      " |-- qty: integer (nullable = true)\n",
      "\n"
     ]
    }
   ],
   "source": [
    "from pyspark.sql.types import IntegerType,DataType\n",
    "df1=df.withColumn('itemid',df['itemid'].cast(\"integer\"))#.withColumn('itemcost',df['itemcost'].cast(\"float\"))\n",
    "df1.printSchema()"
   ]
  },
  {
   "cell_type": "code",
   "execution_count": 60,
   "id": "bb13bdf6",
   "metadata": {},
   "outputs": [
    {
     "name": "stdout",
     "output_type": "stream",
     "text": [
      "+----+-----------+\n",
      "|  id|joiningdate|\n",
      "+----+-----------+\n",
      "|2323| 12/31/2020|\n",
      "|2345|   2/1/2021|\n",
      "+----+-----------+\n",
      "\n"
     ]
    }
   ],
   "source": [
    "data=[(2323,'12/31/2020'),(2345,'2/1/2021')]\n",
    "df=spark.createDataFrame(data,['id','joiningdate'])\n",
    "df.show()"
   ]
  },
  {
   "cell_type": "code",
   "execution_count": 61,
   "id": "530c8fb9",
   "metadata": {},
   "outputs": [
    {
     "name": "stdout",
     "output_type": "stream",
     "text": [
      "root\n",
      " |-- id: long (nullable = true)\n",
      " |-- joiningdate: string (nullable = true)\n",
      "\n"
     ]
    }
   ],
   "source": [
    "df.printSchema()"
   ]
  },
  {
   "cell_type": "code",
   "execution_count": 65,
   "id": "8754c618",
   "metadata": {},
   "outputs": [
    {
     "name": "stdout",
     "output_type": "stream",
     "text": [
      "root\n",
      " |-- id: long (nullable = true)\n",
      " |-- joiningdate: date (nullable = true)\n",
      "\n"
     ]
    }
   ],
   "source": [
    "df2=df.withColumn('joiningdate',df['joiningdate'].cast(\"date\"))#.withColumn('itemcost',df['itemcost'].cast(\"float\"))\n",
    "df2.printSchema()"
   ]
  },
  {
   "cell_type": "code",
   "execution_count": 68,
   "id": "a507087d",
   "metadata": {},
   "outputs": [],
   "source": [
    "#import spark.sqlContext.implicits._\n",
    "#df3=df.withColumn(\"Professiondate\",add_months(\"joiningdate\",2))\n",
    "#df3.show()\n"
   ]
  },
  {
   "cell_type": "code",
   "execution_count": 67,
   "id": "a942cbe0",
   "metadata": {},
   "outputs": [
    {
     "name": "stdout",
     "output_type": "stream",
     "text": [
      "+------+--------+--------+----+-----+----+\n",
      "|itemid|itemname|itemcost|s_id|grade| qty|\n",
      "+------+--------+--------+----+-----+----+\n",
      "|     1|  Pencil|       4|   Y|    B|   6|\n",
      "|     2|     Pen|      43|   X|    A|   1|\n",
      "|     3|  Duster|      54|   Y|    C|   3|\n",
      "|     4|   Chock|      65|   X|    A|   4|\n",
      "|     5|notebook|    null|null| null|null|\n",
      "|     7| shopner|    null|   Y|    C|null|\n",
      "|     8|  Duster|      54|   Y|    C|   3|\n",
      "|     9|   Chock|      65|   X|    A|   4|\n",
      "+------+--------+--------+----+-----+----+\n",
      "\n",
      "+------+--------+--------+--------+-----+----+\n",
      "|itemid|itemname|itemcost|supplier|grade| qty|\n",
      "+------+--------+--------+--------+-----+----+\n",
      "|     1|  Pencil|       4|       Y|    B|   6|\n",
      "|     2|     Pen|      43|       X|    A|   1|\n",
      "|     3|  Duster|      54|       Y|    C|   3|\n",
      "|     4|   Chock|      65|       X|    A|   4|\n",
      "|     5|notebook|    null|    null| null|null|\n",
      "|     6|    null|    null|    null| null|null|\n",
      "|     7| shopner|    null|       Y|    C|null|\n",
      "|     8|  Duster|      54|       Y|    C|   3|\n",
      "|     9|   Chock|      65|       X|    A|   4|\n",
      "+------+--------+--------+--------+-----+----+\n",
      "\n",
      "+------+--------+--------+----+-----+----+\n",
      "|itemid|itemname|itemcost|s_id|grade| qty|\n",
      "+------+--------+--------+----+-----+----+\n",
      "|     1|  Pencil|       4|   Y|    B|   6|\n",
      "|     2|     Pen|      43|   X|    A|   1|\n",
      "|     3|  Duster|      54|   Y|    C|   3|\n",
      "|     4|   Chock|      65|   X|    A|   4|\n",
      "|     5|notebook|    null|null| null|null|\n",
      "|     7| shopner|    null|   Y|    C|null|\n",
      "|     8|  Duster|      54|   Y|    C|   3|\n",
      "|     9|   Chock|      65|   X|    A|   4|\n",
      "|     1|  Pencil|       4|   Y|    B|   6|\n",
      "|     2|     Pen|      43|   X|    A|   1|\n",
      "|     3|  Duster|      54|   Y|    C|   3|\n",
      "|     4|   Chock|      65|   X|    A|   4|\n",
      "|     5|notebook|    null|null| null|null|\n",
      "|     6|    null|    null|null| null|null|\n",
      "|     7| shopner|    null|   Y|    C|null|\n",
      "|     8|  Duster|      54|   Y|    C|   3|\n",
      "|     9|   Chock|      65|   X|    A|   4|\n",
      "+------+--------+--------+----+-----+----+\n",
      "\n"
     ]
    },
    {
     "ename": "AnalysisException",
     "evalue": "cannot resolve 's_id' given input columns: [grade, itemcost, itemid, itemname, qty, supplier];\n'Project [itemid#1643, itemname#1644, itemcost#1645, 's_id, grade#1647, qty#1648]\n+- Relation [itemid#1643,itemname#1644,itemcost#1645,supplier#1646,grade#1647,qty#1648] csv\n",
     "output_type": "error",
     "traceback": [
      "\u001b[1;31m---------------------------------------------------------------------------\u001b[0m",
      "\u001b[1;31mAnalysisException\u001b[0m                         Traceback (most recent call last)",
      "\u001b[1;32m~\\AppData\\Local\\Temp/ipykernel_23500/971256403.py\u001b[0m in \u001b[0;36m<module>\u001b[1;34m\u001b[0m\n\u001b[0;32m     12\u001b[0m     \u001b[0mresult\u001b[0m\u001b[1;33m=\u001b[0m\u001b[0mfunctools\u001b[0m\u001b[1;33m.\u001b[0m\u001b[0mreduce\u001b[0m\u001b[1;33m(\u001b[0m\u001b[1;32mlambda\u001b[0m \u001b[0mf1\u001b[0m\u001b[1;33m,\u001b[0m\u001b[0mf2\u001b[0m\u001b[1;33m:\u001b[0m\u001b[0mf1\u001b[0m\u001b[1;33m.\u001b[0m\u001b[0munion\u001b[0m\u001b[1;33m(\u001b[0m\u001b[0mf2\u001b[0m\u001b[1;33m.\u001b[0m\u001b[0mselect\u001b[0m\u001b[1;33m(\u001b[0m\u001b[0mf1\u001b[0m\u001b[1;33m.\u001b[0m\u001b[0mcolumns\u001b[0m\u001b[1;33m)\u001b[0m\u001b[1;33m)\u001b[0m\u001b[1;33m,\u001b[0m\u001b[0mframeList\u001b[0m\u001b[1;33m)\u001b[0m\u001b[1;33m\u001b[0m\u001b[1;33m\u001b[0m\u001b[0m\n\u001b[0;32m     13\u001b[0m     \u001b[1;32mreturn\u001b[0m \u001b[0mresult\u001b[0m\u001b[1;33m\u001b[0m\u001b[1;33m\u001b[0m\u001b[0m\n\u001b[1;32m---> 14\u001b[1;33m \u001b[0mresultFrame\u001b[0m\u001b[1;33m=\u001b[0m\u001b[0mjoinFrames\u001b[0m\u001b[1;33m(\u001b[0m\u001b[1;33m[\u001b[0m\u001b[0mIdf1\u001b[0m\u001b[1;33m,\u001b[0m\u001b[0mIdf2\u001b[0m\u001b[1;33m]\u001b[0m\u001b[1;33m)\u001b[0m\u001b[1;33m\u001b[0m\u001b[1;33m\u001b[0m\u001b[0m\n\u001b[0m\u001b[0;32m     15\u001b[0m \u001b[0mresultFrame\u001b[0m\u001b[1;33m.\u001b[0m\u001b[0mshow\u001b[0m\u001b[1;33m(\u001b[0m\u001b[1;33m)\u001b[0m\u001b[1;33m\u001b[0m\u001b[1;33m\u001b[0m\u001b[0m\n",
      "\u001b[1;32m~\\AppData\\Local\\Temp/ipykernel_23500/971256403.py\u001b[0m in \u001b[0;36mjoinFrames\u001b[1;34m(frameList)\u001b[0m\n\u001b[0;32m     10\u001b[0m \u001b[1;32mimport\u001b[0m \u001b[0mfunctools\u001b[0m\u001b[1;33m\u001b[0m\u001b[1;33m\u001b[0m\u001b[0m\n\u001b[0;32m     11\u001b[0m \u001b[1;32mdef\u001b[0m \u001b[0mjoinFrames\u001b[0m\u001b[1;33m(\u001b[0m\u001b[0mframeList\u001b[0m\u001b[1;33m)\u001b[0m\u001b[1;33m:\u001b[0m\u001b[1;33m\u001b[0m\u001b[1;33m\u001b[0m\u001b[0m\n\u001b[1;32m---> 12\u001b[1;33m     \u001b[0mresult\u001b[0m\u001b[1;33m=\u001b[0m\u001b[0mfunctools\u001b[0m\u001b[1;33m.\u001b[0m\u001b[0mreduce\u001b[0m\u001b[1;33m(\u001b[0m\u001b[1;32mlambda\u001b[0m \u001b[0mf1\u001b[0m\u001b[1;33m,\u001b[0m\u001b[0mf2\u001b[0m\u001b[1;33m:\u001b[0m\u001b[0mf1\u001b[0m\u001b[1;33m.\u001b[0m\u001b[0munion\u001b[0m\u001b[1;33m(\u001b[0m\u001b[0mf2\u001b[0m\u001b[1;33m.\u001b[0m\u001b[0mselect\u001b[0m\u001b[1;33m(\u001b[0m\u001b[0mf1\u001b[0m\u001b[1;33m.\u001b[0m\u001b[0mcolumns\u001b[0m\u001b[1;33m)\u001b[0m\u001b[1;33m)\u001b[0m\u001b[1;33m,\u001b[0m\u001b[0mframeList\u001b[0m\u001b[1;33m)\u001b[0m\u001b[1;33m\u001b[0m\u001b[1;33m\u001b[0m\u001b[0m\n\u001b[0m\u001b[0;32m     13\u001b[0m     \u001b[1;32mreturn\u001b[0m \u001b[0mresult\u001b[0m\u001b[1;33m\u001b[0m\u001b[1;33m\u001b[0m\u001b[0m\n\u001b[0;32m     14\u001b[0m \u001b[0mresultFrame\u001b[0m\u001b[1;33m=\u001b[0m\u001b[0mjoinFrames\u001b[0m\u001b[1;33m(\u001b[0m\u001b[1;33m[\u001b[0m\u001b[0mIdf1\u001b[0m\u001b[1;33m,\u001b[0m\u001b[0mIdf2\u001b[0m\u001b[1;33m]\u001b[0m\u001b[1;33m)\u001b[0m\u001b[1;33m\u001b[0m\u001b[1;33m\u001b[0m\u001b[0m\n",
      "\u001b[1;32m~\\AppData\\Local\\Temp/ipykernel_23500/971256403.py\u001b[0m in \u001b[0;36m<lambda>\u001b[1;34m(f1, f2)\u001b[0m\n\u001b[0;32m     10\u001b[0m \u001b[1;32mimport\u001b[0m \u001b[0mfunctools\u001b[0m\u001b[1;33m\u001b[0m\u001b[1;33m\u001b[0m\u001b[0m\n\u001b[0;32m     11\u001b[0m \u001b[1;32mdef\u001b[0m \u001b[0mjoinFrames\u001b[0m\u001b[1;33m(\u001b[0m\u001b[0mframeList\u001b[0m\u001b[1;33m)\u001b[0m\u001b[1;33m:\u001b[0m\u001b[1;33m\u001b[0m\u001b[1;33m\u001b[0m\u001b[0m\n\u001b[1;32m---> 12\u001b[1;33m     \u001b[0mresult\u001b[0m\u001b[1;33m=\u001b[0m\u001b[0mfunctools\u001b[0m\u001b[1;33m.\u001b[0m\u001b[0mreduce\u001b[0m\u001b[1;33m(\u001b[0m\u001b[1;32mlambda\u001b[0m \u001b[0mf1\u001b[0m\u001b[1;33m,\u001b[0m\u001b[0mf2\u001b[0m\u001b[1;33m:\u001b[0m\u001b[0mf1\u001b[0m\u001b[1;33m.\u001b[0m\u001b[0munion\u001b[0m\u001b[1;33m(\u001b[0m\u001b[0mf2\u001b[0m\u001b[1;33m.\u001b[0m\u001b[0mselect\u001b[0m\u001b[1;33m(\u001b[0m\u001b[0mf1\u001b[0m\u001b[1;33m.\u001b[0m\u001b[0mcolumns\u001b[0m\u001b[1;33m)\u001b[0m\u001b[1;33m)\u001b[0m\u001b[1;33m,\u001b[0m\u001b[0mframeList\u001b[0m\u001b[1;33m)\u001b[0m\u001b[1;33m\u001b[0m\u001b[1;33m\u001b[0m\u001b[0m\n\u001b[0m\u001b[0;32m     13\u001b[0m     \u001b[1;32mreturn\u001b[0m \u001b[0mresult\u001b[0m\u001b[1;33m\u001b[0m\u001b[1;33m\u001b[0m\u001b[0m\n\u001b[0;32m     14\u001b[0m \u001b[0mresultFrame\u001b[0m\u001b[1;33m=\u001b[0m\u001b[0mjoinFrames\u001b[0m\u001b[1;33m(\u001b[0m\u001b[1;33m[\u001b[0m\u001b[0mIdf1\u001b[0m\u001b[1;33m,\u001b[0m\u001b[0mIdf2\u001b[0m\u001b[1;33m]\u001b[0m\u001b[1;33m)\u001b[0m\u001b[1;33m\u001b[0m\u001b[1;33m\u001b[0m\u001b[0m\n",
      "\u001b[1;32mD:\\PythonAnaconda\\lib\\site-packages\\pyspark\\sql\\dataframe.py\u001b[0m in \u001b[0;36mselect\u001b[1;34m(self, *cols)\u001b[0m\n\u001b[0;32m   1683\u001b[0m         \u001b[1;33m[\u001b[0m\u001b[0mRow\u001b[0m\u001b[1;33m(\u001b[0m\u001b[0mname\u001b[0m\u001b[1;33m=\u001b[0m\u001b[1;34m'Alice'\u001b[0m\u001b[1;33m,\u001b[0m \u001b[0mage\u001b[0m\u001b[1;33m=\u001b[0m\u001b[1;36m12\u001b[0m\u001b[1;33m)\u001b[0m\u001b[1;33m,\u001b[0m \u001b[0mRow\u001b[0m\u001b[1;33m(\u001b[0m\u001b[0mname\u001b[0m\u001b[1;33m=\u001b[0m\u001b[1;34m'Bob'\u001b[0m\u001b[1;33m,\u001b[0m \u001b[0mage\u001b[0m\u001b[1;33m=\u001b[0m\u001b[1;36m15\u001b[0m\u001b[1;33m)\u001b[0m\u001b[1;33m]\u001b[0m\u001b[1;33m\u001b[0m\u001b[1;33m\u001b[0m\u001b[0m\n\u001b[0;32m   1684\u001b[0m         \"\"\"\n\u001b[1;32m-> 1685\u001b[1;33m         \u001b[0mjdf\u001b[0m \u001b[1;33m=\u001b[0m \u001b[0mself\u001b[0m\u001b[1;33m.\u001b[0m\u001b[0m_jdf\u001b[0m\u001b[1;33m.\u001b[0m\u001b[0mselect\u001b[0m\u001b[1;33m(\u001b[0m\u001b[0mself\u001b[0m\u001b[1;33m.\u001b[0m\u001b[0m_jcols\u001b[0m\u001b[1;33m(\u001b[0m\u001b[1;33m*\u001b[0m\u001b[0mcols\u001b[0m\u001b[1;33m)\u001b[0m\u001b[1;33m)\u001b[0m\u001b[1;33m\u001b[0m\u001b[1;33m\u001b[0m\u001b[0m\n\u001b[0m\u001b[0;32m   1686\u001b[0m         \u001b[1;32mreturn\u001b[0m \u001b[0mDataFrame\u001b[0m\u001b[1;33m(\u001b[0m\u001b[0mjdf\u001b[0m\u001b[1;33m,\u001b[0m \u001b[0mself\u001b[0m\u001b[1;33m.\u001b[0m\u001b[0msql_ctx\u001b[0m\u001b[1;33m)\u001b[0m\u001b[1;33m\u001b[0m\u001b[1;33m\u001b[0m\u001b[0m\n\u001b[0;32m   1687\u001b[0m \u001b[1;33m\u001b[0m\u001b[0m\n",
      "\u001b[1;32mD:\\PythonAnaconda\\lib\\site-packages\\py4j\\java_gateway.py\u001b[0m in \u001b[0;36m__call__\u001b[1;34m(self, *args)\u001b[0m\n\u001b[0;32m   1319\u001b[0m \u001b[1;33m\u001b[0m\u001b[0m\n\u001b[0;32m   1320\u001b[0m         \u001b[0manswer\u001b[0m \u001b[1;33m=\u001b[0m \u001b[0mself\u001b[0m\u001b[1;33m.\u001b[0m\u001b[0mgateway_client\u001b[0m\u001b[1;33m.\u001b[0m\u001b[0msend_command\u001b[0m\u001b[1;33m(\u001b[0m\u001b[0mcommand\u001b[0m\u001b[1;33m)\u001b[0m\u001b[1;33m\u001b[0m\u001b[1;33m\u001b[0m\u001b[0m\n\u001b[1;32m-> 1321\u001b[1;33m         return_value = get_return_value(\n\u001b[0m\u001b[0;32m   1322\u001b[0m             answer, self.gateway_client, self.target_id, self.name)\n\u001b[0;32m   1323\u001b[0m \u001b[1;33m\u001b[0m\u001b[0m\n",
      "\u001b[1;32mD:\\PythonAnaconda\\lib\\site-packages\\pyspark\\sql\\utils.py\u001b[0m in \u001b[0;36mdeco\u001b[1;34m(*a, **kw)\u001b[0m\n\u001b[0;32m    115\u001b[0m                 \u001b[1;31m# Hide where the exception came from that shows a non-Pythonic\u001b[0m\u001b[1;33m\u001b[0m\u001b[1;33m\u001b[0m\u001b[0m\n\u001b[0;32m    116\u001b[0m                 \u001b[1;31m# JVM exception message.\u001b[0m\u001b[1;33m\u001b[0m\u001b[1;33m\u001b[0m\u001b[0m\n\u001b[1;32m--> 117\u001b[1;33m                 \u001b[1;32mraise\u001b[0m \u001b[0mconverted\u001b[0m \u001b[1;32mfrom\u001b[0m \u001b[1;32mNone\u001b[0m\u001b[1;33m\u001b[0m\u001b[1;33m\u001b[0m\u001b[0m\n\u001b[0m\u001b[0;32m    118\u001b[0m             \u001b[1;32melse\u001b[0m\u001b[1;33m:\u001b[0m\u001b[1;33m\u001b[0m\u001b[1;33m\u001b[0m\u001b[0m\n\u001b[0;32m    119\u001b[0m                 \u001b[1;32mraise\u001b[0m\u001b[1;33m\u001b[0m\u001b[1;33m\u001b[0m\u001b[0m\n",
      "\u001b[1;31mAnalysisException\u001b[0m: cannot resolve 's_id' given input columns: [grade, itemcost, itemid, itemname, qty, supplier];\n'Project [itemid#1643, itemname#1644, itemcost#1645, 's_id, grade#1647, qty#1648]\n+- Relation [itemid#1643,itemname#1644,itemcost#1645,supplier#1646,grade#1647,qty#1648] csv\n"
     ]
    }
   ],
   "source": [
    "#concate twoframe\n",
    "Idf1=spark.read.option(\"header\",\"true\").csv(\"D:\\\\items.csv\",header=True,inferSchema=True)\n",
    "Idf1.show()\n",
    "Idf2=spark.read.option(\"header\",\"true\").csv(\"D:\\\\items1.csv\",header=True,inferSchema=True)\n",
    "Idf2.show()\n",
    "result=Idf1.union(Idf2)\n",
    "#result=Idf1.unionByName(Idf2)#col name should be matching\n",
    "result.show()\n",
    "\n",
    "import functools\n",
    "def joinFrames(frameList):\n",
    "    result=functools.reduce(lambda f1,f2:f1.union(f2.select(f1.columns)),frameList)\n",
    "    return result\n",
    "resultFrame=joinFrames([Idf1,Idf2])\n",
    "resultFrame.show()"
   ]
  },
  {
   "cell_type": "code",
   "execution_count": 69,
   "id": "9f392dce",
   "metadata": {},
   "outputs": [
    {
     "name": "stdout",
     "output_type": "stream",
     "text": [
      "+------+--------+--------+\n",
      "|studid|studname|studmark|\n",
      "+------+--------+--------+\n",
      "|   101|     tyu|      66|\n",
      "|   102|      pp|      50|\n",
      "|   103|      jj|      77|\n",
      "|   104|      ee|      87|\n",
      "|   105|      rt|      60|\n",
      "+------+--------+--------+\n",
      "\n",
      "+------+--------+--------+\n",
      "|studid|studname|studmark|\n",
      "+------+--------+--------+\n",
      "|   102|     tyu|      66|\n",
      "|   105|       p|      70|\n",
      "|   103|       o|      77|\n",
      "|   111|       k|      76|\n",
      "|   105|      rt|      55|\n",
      "+------+--------+--------+\n",
      "\n",
      "+------+--------+--------+\n",
      "|studid|studname|studmark|\n",
      "+------+--------+--------+\n",
      "|   101|     tyu|      66|\n",
      "|   102|      pp|      50|\n",
      "|   103|      jj|      77|\n",
      "|   104|      ee|      87|\n",
      "|   105|      rt|      60|\n",
      "|   102|     tyu|      66|\n",
      "|   105|       p|      70|\n",
      "|   103|       o|      77|\n",
      "|   111|       k|      76|\n",
      "|   105|      rt|      55|\n",
      "+------+--------+--------+\n",
      "\n",
      "+------+--------+--------+\n",
      "|studid|studname|studmark|\n",
      "+------+--------+--------+\n",
      "|   101|     tyu|      66|\n",
      "|   102|      pp|      50|\n",
      "|   103|      jj|      77|\n",
      "|   104|      ee|      87|\n",
      "|   105|      rt|      60|\n",
      "|   102|     tyu|      66|\n",
      "|   105|       p|      70|\n",
      "|   103|       o|      77|\n",
      "|   111|       k|      76|\n",
      "|   105|      rt|      55|\n",
      "+------+--------+--------+\n",
      "\n"
     ]
    }
   ],
   "source": [
    "sdf1=spark.read.option(\"header\",\"true\").csv(\"D:\\\\Stud.csv\",header=True,inferSchema=True)\n",
    "sdf1.show()\n",
    "sdf2=spark.read.option(\"header\",\"true\").csv(\"D:\\\\Stud1.csv\",header=True,inferSchema=True)\n",
    "sdf2.show()\n",
    "result=sdf1.union(sdf2)\n",
    "#result=Idf1.unionByName(Idf2)#col name should be matching\n",
    "result.show()\n",
    "\n",
    "import functools\n",
    "def joinFrames(frameList):\n",
    "    result=functools.reduce(lambda f1,f2:f1.union(f2.select(f1.columns)),frameList)\n",
    "    return result\n",
    "resultFrame=joinFrames([sdf1,sdf2])\n",
    "resultFrame.show()\n"
   ]
  },
  {
   "cell_type": "code",
   "execution_count": 70,
   "id": "9f7d69dd",
   "metadata": {
    "scrolled": true
   },
   "outputs": [
    {
     "name": "stdout",
     "output_type": "stream",
     "text": [
      "+------+--------+--------+\n",
      "|studid|studname|studmark|\n",
      "+------+--------+--------+\n",
      "|   101|     tyu|      66|\n",
      "|   102|      pp|      50|\n",
      "|   103|      jj|      77|\n",
      "|   104|      ee|      87|\n",
      "|   105|      rt|      60|\n",
      "+------+--------+--------+\n",
      "\n",
      "+------+--------+--------+\n",
      "|studid|studname|studmark|\n",
      "+------+--------+--------+\n",
      "|   102|     tyu|      66|\n",
      "|   105|       p|      70|\n",
      "|   103|       o|      77|\n",
      "|   111|       k|      76|\n",
      "|   105|      rt|      55|\n",
      "+------+--------+--------+\n",
      "\n"
     ]
    }
   ],
   "source": [
    "#join in dataframe\n",
    "sdf1=spark.read.option(\"header\",\"true\").csv(\"D:\\\\Stud.csv\",header=True,inferSchema=True)\n",
    "sdf1.show()\n",
    "sdf2=spark.read.option(\"header\",\"true\").csv(\"D:\\\\Stud1.csv\",header=True,inferSchema=True)\n",
    "sdf2.show()"
   ]
  },
  {
   "cell_type": "code",
   "execution_count": 71,
   "id": "737e40f8",
   "metadata": {},
   "outputs": [
    {
     "name": "stdout",
     "output_type": "stream",
     "text": [
      "+------+--------+--------+------+--------+--------+\n",
      "|studid|studname|studmark|studid|studname|studmark|\n",
      "+------+--------+--------+------+--------+--------+\n",
      "|   102|      pp|      50|   102|     tyu|      66|\n",
      "|   103|      jj|      77|   103|       o|      77|\n",
      "|   105|      rt|      60|   105|      rt|      55|\n",
      "|   105|      rt|      60|   105|       p|      70|\n",
      "+------+--------+--------+------+--------+--------+\n",
      "\n"
     ]
    }
   ],
   "source": [
    "sdf3=sdf1.join(sdf2,sdf1.studid==sdf2.studid,\"inner\")\n",
    "sdf3.show()"
   ]
  },
  {
   "cell_type": "code",
   "execution_count": 72,
   "id": "109afc17",
   "metadata": {},
   "outputs": [
    {
     "name": "stdout",
     "output_type": "stream",
     "text": [
      "+------+--------+--------+------+--------+--------+\n",
      "|studid|studname|studmark|studid|studname|studmark|\n",
      "+------+--------+--------+------+--------+--------+\n",
      "|   101|     tyu|      66|  null|    null|    null|\n",
      "|   102|      pp|      50|   102|     tyu|      66|\n",
      "|   103|      jj|      77|   103|       o|      77|\n",
      "|   104|      ee|      87|  null|    null|    null|\n",
      "|   105|      rt|      60|   105|       p|      70|\n",
      "|   105|      rt|      60|   105|      rt|      55|\n",
      "|  null|    null|    null|   111|       k|      76|\n",
      "+------+--------+--------+------+--------+--------+\n",
      "\n"
     ]
    }
   ],
   "source": [
    "sdf3=sdf1.join(sdf2,sdf1.studid==sdf2.studid,\"outer\")\n",
    "sdf3.show()"
   ]
  },
  {
   "cell_type": "code",
   "execution_count": 73,
   "id": "17ecf6e0",
   "metadata": {},
   "outputs": [
    {
     "name": "stdout",
     "output_type": "stream",
     "text": [
      "+------+--------+--------+------+--------+--------+\n",
      "|studid|studname|studmark|studid|studname|studmark|\n",
      "+------+--------+--------+------+--------+--------+\n",
      "|   101|     tyu|      66|  null|    null|    null|\n",
      "|   102|      pp|      50|   102|     tyu|      66|\n",
      "|   103|      jj|      77|   103|       o|      77|\n",
      "|   104|      ee|      87|  null|    null|    null|\n",
      "|   105|      rt|      60|   105|       p|      70|\n",
      "|   105|      rt|      60|   105|      rt|      55|\n",
      "|  null|    null|    null|   111|       k|      76|\n",
      "+------+--------+--------+------+--------+--------+\n",
      "\n"
     ]
    }
   ],
   "source": [
    "sdf3=sdf1.join(sdf2,sdf1.studid==sdf2.studid,\"fullouter\")\n",
    "sdf3.show()"
   ]
  },
  {
   "cell_type": "code",
   "execution_count": 74,
   "id": "0d541ed2",
   "metadata": {},
   "outputs": [
    {
     "name": "stdout",
     "output_type": "stream",
     "text": [
      "+------+--------+--------+\n",
      "|studid|studname|studmark|\n",
      "+------+--------+--------+\n",
      "|   102|      pp|      50|\n",
      "|   103|      jj|      77|\n",
      "|   105|      rt|      60|\n",
      "+------+--------+--------+\n",
      "\n"
     ]
    }
   ],
   "source": [
    "sdf3=sdf1.join(sdf2,sdf1.studid==sdf2.studid,\"leftsemi\")\n",
    "#sdf3=sdf1.join(sdf2,sdf1.studid==sdf2.studid,\"left\")\n",
    "sdf3.show()"
   ]
  },
  {
   "cell_type": "code",
   "execution_count": 75,
   "id": "9eea338d",
   "metadata": {},
   "outputs": [
    {
     "name": "stdout",
     "output_type": "stream",
     "text": [
      "+------+--------+--------+------+--------+--------+\n",
      "|studid|studname|studmark|studid|studname|studmark|\n",
      "+------+--------+--------+------+--------+--------+\n",
      "|   102|      pp|      50|   102|     tyu|      66|\n",
      "|   105|      rt|      60|   105|       p|      70|\n",
      "|   103|      jj|      77|   103|       o|      77|\n",
      "|  null|    null|    null|   111|       k|      76|\n",
      "|   105|      rt|      60|   105|      rt|      55|\n",
      "+------+--------+--------+------+--------+--------+\n",
      "\n"
     ]
    }
   ],
   "source": [
    "#sdf3=sdf1.join(sdf2,sdf1.studid==sdf2.studid,\"rightouter\")\n",
    "sdf3=sdf1.join(sdf2,sdf1.studid==sdf2.studid,\"right\")\n",
    "sdf3.show()"
   ]
  },
  {
   "cell_type": "code",
   "execution_count": 76,
   "id": "c2e9dc13",
   "metadata": {},
   "outputs": [
    {
     "name": "stdout",
     "output_type": "stream",
     "text": [
      "+------+--------+--------+\n",
      "|studid|studname|studmark|\n",
      "+------+--------+--------+\n",
      "|   101|     tyu|      66|\n",
      "|   104|      ee|      87|\n",
      "+------+--------+--------+\n",
      "\n"
     ]
    }
   ],
   "source": [
    "sdf3=sdf1.join(sdf2,sdf1.studid==sdf2.studid,\"leftanti\")\n",
    "sdf3.show()"
   ]
  },
  {
   "cell_type": "code",
   "execution_count": 77,
   "id": "762d73d5",
   "metadata": {},
   "outputs": [
    {
     "name": "stdout",
     "output_type": "stream",
     "text": [
      "+---+-------------+\n",
      "|Aid|   AuthorName|\n",
      "+---+-------------+\n",
      "|121|  Tarak Mehta|\n",
      "|120|   Kiran Bedi|\n",
      "|122|Vishwas Patil|\n",
      "|123|P.L.Deshpande|\n",
      "|134|     V.P.Kale|\n",
      "|135| G.A.Kulkarni|\n",
      "+---+-------------+\n",
      "\n",
      "+------+-------------+--------+---+\n",
      "|BookId|     BookName|BookCost|Aid|\n",
      "+------+-------------+--------+---+\n",
      "|  1001|       I Dare|     300|120|\n",
      "|  1002|  The Shivaji|    2000|122|\n",
      "|  1003|      Panipat|    1000|122|\n",
      "|  1004|  Asami Asami|    2000|123|\n",
      "|  1005|   Sweet Home|     500|121|\n",
      "|  1006|  India Today|    2250|122|\n",
      "|  1007|Know Yourself|    1334|124|\n",
      "+------+-------------+--------+---+\n",
      "\n"
     ]
    }
   ],
   "source": [
    "sdf1=spark.read.option(\"header\",\"true\").csv(\"D:\\Authors.csv\",header=True,inferSchema=True)\n",
    "sdf1.show()\n",
    "sdf2=spark.read.option(\"header\",\"true\").csv(\"D:\\Books.csv\",header=True,inferSchema=True)\n",
    "sdf2.show()"
   ]
  },
  {
   "cell_type": "code",
   "execution_count": 79,
   "id": "f033c679",
   "metadata": {},
   "outputs": [
    {
     "name": "stdout",
     "output_type": "stream",
     "text": [
      "+---+-------------+------+-----------+--------+---+\n",
      "|Aid|   AuthorName|BookId|   BookName|BookCost|Aid|\n",
      "+---+-------------+------+-----------+--------+---+\n",
      "|120|   Kiran Bedi|  1001|     I Dare|     300|120|\n",
      "|122|Vishwas Patil|  1002|The Shivaji|    2000|122|\n",
      "|122|Vishwas Patil|  1003|    Panipat|    1000|122|\n",
      "|123|P.L.Deshpande|  1004|Asami Asami|    2000|123|\n",
      "|121|  Tarak Mehta|  1005| Sweet Home|     500|121|\n",
      "|122|Vishwas Patil|  1006|India Today|    2250|122|\n",
      "+---+-------------+------+-----------+--------+---+\n",
      "\n"
     ]
    }
   ],
   "source": [
    "sdf3=sdf1.join(sdf2,sdf1.Aid==sdf2.Aid,\"inner\")\n",
    "sdf3.show()"
   ]
  },
  {
   "cell_type": "code",
   "execution_count": 80,
   "id": "0c691884",
   "metadata": {},
   "outputs": [
    {
     "name": "stdout",
     "output_type": "stream",
     "text": [
      "+----+-------------+------+-------------+--------+----+\n",
      "| Aid|   AuthorName|BookId|     BookName|BookCost| Aid|\n",
      "+----+-------------+------+-------------+--------+----+\n",
      "| 120|   Kiran Bedi|  1001|       I Dare|     300| 120|\n",
      "| 121|  Tarak Mehta|  1005|   Sweet Home|     500| 121|\n",
      "| 122|Vishwas Patil|  1002|  The Shivaji|    2000| 122|\n",
      "| 122|Vishwas Patil|  1003|      Panipat|    1000| 122|\n",
      "| 122|Vishwas Patil|  1006|  India Today|    2250| 122|\n",
      "| 123|P.L.Deshpande|  1004|  Asami Asami|    2000| 123|\n",
      "|null|         null|  1007|Know Yourself|    1334| 124|\n",
      "| 134|     V.P.Kale|  null|         null|    null|null|\n",
      "| 135| G.A.Kulkarni|  null|         null|    null|null|\n",
      "+----+-------------+------+-------------+--------+----+\n",
      "\n"
     ]
    }
   ],
   "source": [
    "sdf3=sdf1.join(sdf2,sdf1.Aid==sdf2.Aid,\"outer\")\n",
    "sdf3.show()"
   ]
  },
  {
   "cell_type": "code",
   "execution_count": 81,
   "id": "c2b8dbfb",
   "metadata": {},
   "outputs": [
    {
     "name": "stdout",
     "output_type": "stream",
     "text": [
      "+---+-------------+------+-----------+--------+----+\n",
      "|Aid|   AuthorName|BookId|   BookName|BookCost| Aid|\n",
      "+---+-------------+------+-----------+--------+----+\n",
      "|121|  Tarak Mehta|  1005| Sweet Home|     500| 121|\n",
      "|120|   Kiran Bedi|  1001|     I Dare|     300| 120|\n",
      "|122|Vishwas Patil|  1006|India Today|    2250| 122|\n",
      "|122|Vishwas Patil|  1003|    Panipat|    1000| 122|\n",
      "|122|Vishwas Patil|  1002|The Shivaji|    2000| 122|\n",
      "|123|P.L.Deshpande|  1004|Asami Asami|    2000| 123|\n",
      "|134|     V.P.Kale|  null|       null|    null|null|\n",
      "|135| G.A.Kulkarni|  null|       null|    null|null|\n",
      "+---+-------------+------+-----------+--------+----+\n",
      "\n"
     ]
    }
   ],
   "source": [
    "sdf3=sdf1.join(sdf2,sdf1.Aid==sdf2.Aid,\"left\")\n",
    "sdf3.show()"
   ]
  },
  {
   "cell_type": "code",
   "execution_count": 82,
   "id": "ea5ac643",
   "metadata": {},
   "outputs": [
    {
     "name": "stdout",
     "output_type": "stream",
     "text": [
      "+----+-------------+------+-------------+--------+----+\n",
      "| Aid|   AuthorName|BookId|     BookName|BookCost| Aid|\n",
      "+----+-------------+------+-------------+--------+----+\n",
      "| 120|   Kiran Bedi|  1001|       I Dare|     300| 120|\n",
      "| 121|  Tarak Mehta|  1005|   Sweet Home|     500| 121|\n",
      "| 122|Vishwas Patil|  1002|  The Shivaji|    2000| 122|\n",
      "| 122|Vishwas Patil|  1003|      Panipat|    1000| 122|\n",
      "| 122|Vishwas Patil|  1006|  India Today|    2250| 122|\n",
      "| 123|P.L.Deshpande|  1004|  Asami Asami|    2000| 123|\n",
      "|null|         null|  1007|Know Yourself|    1334| 124|\n",
      "| 134|     V.P.Kale|  null|         null|    null|null|\n",
      "| 135| G.A.Kulkarni|  null|         null|    null|null|\n",
      "+----+-------------+------+-------------+--------+----+\n",
      "\n"
     ]
    }
   ],
   "source": [
    "sdf3=sdf1.join(sdf2,sdf1.Aid==sdf2.Aid,\"fullouter\")\n",
    "sdf3.show()"
   ]
  },
  {
   "cell_type": "code",
   "execution_count": 63,
   "id": "280e13ba",
   "metadata": {},
   "outputs": [
    {
     "name": "stdout",
     "output_type": "stream",
     "text": [
      "+----------+------+----------+---------------+------+-------+-----------------+--------------------+\n",
      "|First Name|Gender|Start Date|Last Login Time|Salary|Bonus %|Senior Management|                Team|\n",
      "+----------+------+----------+---------------+------+-------+-----------------+--------------------+\n",
      "|   Douglas|  Male|08-06-1993|       12:42 PM| 97308|  6.945|             true|           Marketing|\n",
      "|    Thomas|  Male| 3/31/1996|        6:53 AM| 61933|   4.17|             true|                null|\n",
      "|     Maria|Female| 4/23/1993|       11:17 AM|  null| 11.858|            false|             Finance|\n",
      "|     Jerry|  Male|03-04-2005|        1:00 PM|138705|   null|             true|             Finance|\n",
      "|     Larry|  Male| 1/24/1998|        4:47 PM|  null|  1.389|             true|     Client Services|\n",
      "|    Dennis|  Male| 4/18/1987|        1:35 AM|115163| 10.125|            false|               Legal|\n",
      "|      Ruby|Female|      null|           null| 65476| 10.012|             true|             Product|\n",
      "|      null|Female| 7/20/2015|       10:43 AM|  null|   null|             null|             Finance|\n",
      "|    Angela|Female|      null|        6:29 AM| 95570|   null|             true|         Engineering|\n",
      "|   Frances|Female|      null|        6:51 AM|139852|  7.524|             true|Business Development|\n",
      "|    Louise|Female|08-12-1980|        9:01 AM| 63241| 15.132|             true|                null|\n",
      "|     Julie|Female|10/26/1997|        3:19 PM|102508| 12.637|             true|               Legal|\n",
      "|   Brandon|  Male|12-01-1980|        1:08 AM|112807| 17.492|             true|     Human Resources|\n",
      "|      Gary|  Male| 1/27/2008|       11:40 PM|109831|  5.831|            false|               Sales|\n",
      "|  Kimberly|Female| 1/14/1999|        7:13 AM| 41426| 14.543|             true|             Finance|\n",
      "|   Lillian|Female|06-05-2016|        6:09 AM| 59414|  1.256|            false|             Product|\n",
      "|    Jeremy|  Male| 9/21/2010|        5:56 AM| 90370|  7.369|            false|     Human Resources|\n",
      "|     Shawn|  Male|12-07-1986|        7:45 PM|111737|  6.414|            false|             Product|\n",
      "|     Diana|Female|10/23/1981|       10:27 AM|132940| 19.082|            false|     Client Services|\n",
      "|     Donna|Female| 7/22/2010|        3:48 AM| 81014|  1.894|            false|             Product|\n",
      "+----------+------+----------+---------------+------+-------+-----------------+--------------------+\n",
      "only showing top 20 rows\n",
      "\n"
     ]
    }
   ],
   "source": [
    "edf=spark.read.option(\"header\",\"true\").csv(\"D:\\\\employees.csv\",header=True,inferSchema=True)\n",
    "edf.show()"
   ]
  },
  {
   "cell_type": "code",
   "execution_count": 34,
   "id": "8e1ae5b9",
   "metadata": {},
   "outputs": [
    {
     "data": {
      "text/plain": [
       "['First Name',\n",
       " 'Gender',\n",
       " 'Start Date',\n",
       " 'Last Login Time',\n",
       " 'Salary',\n",
       " 'Bonus %',\n",
       " 'Senior Management',\n",
       " 'Team']"
      ]
     },
     "execution_count": 34,
     "metadata": {},
     "output_type": "execute_result"
    }
   ],
   "source": [
    "edf.columns\n",
    "\n"
   ]
  },
  {
   "cell_type": "code",
   "execution_count": null,
   "id": "4f933de8",
   "metadata": {},
   "outputs": [],
   "source": [
    "edf1=edf.na.drop(how=\"any\").show()"
   ]
  },
  {
   "cell_type": "code",
   "execution_count": null,
   "id": "cfdb989b",
   "metadata": {},
   "outputs": [],
   "source": [
    "edf.dtypes"
   ]
  },
  {
   "cell_type": "code",
   "execution_count": 125,
   "id": "08963fa5",
   "metadata": {},
   "outputs": [
    {
     "name": "stdout",
     "output_type": "stream",
     "text": [
      "+----------+------+----------+---------------+------+-------+-----------------+--------------------+\n",
      "|First Name|Gender|Start Date|Last Login Time|Salary|Bonus %|Senior Management|                Team|\n",
      "+----------+------+----------+---------------+------+-------+-----------------+--------------------+\n",
      "|   Douglas|  Male|08-06-1993|       12:42 PM| 97308|  6.945|             true|           Marketing|\n",
      "|    Thomas|  Male| 3/31/1996|        6:53 AM| 61933|   4.17|             true|                null|\n",
      "|     Maria|Female| 4/23/1993|       11:17 AM|  null| 11.858|            false|             Finance|\n",
      "|     Jerry|  Male|03-04-2005|        1:00 PM|138705|   null|             true|             Finance|\n",
      "|     Larry|  Male| 1/24/1998|        4:47 PM|  null|  1.389|             true|     Client Services|\n",
      "|    Dennis|  Male| 4/18/1987|        1:35 AM|115163| 10.125|            false|               Legal|\n",
      "|      Ruby|Female|      null|           null| 65476| 10.012|             true|             Product|\n",
      "|      null|Female| 7/20/2015|       10:43 AM|  null|   null|             null|             Finance|\n",
      "|    Angela|Female|      null|        6:29 AM| 95570|   null|             true|         Engineering|\n",
      "|   Frances|Female|      null|        6:51 AM|139852|  7.524|             true|Business Development|\n",
      "|    Louise|Female|08-12-1980|        9:01 AM| 63241| 15.132|             true|                null|\n",
      "|     Julie|Female|10/26/1997|        3:19 PM|102508| 12.637|             true|               Legal|\n",
      "|   Brandon|  Male|12-01-1980|        1:08 AM|112807| 17.492|             true|     Human Resources|\n",
      "|      Gary|  Male| 1/27/2008|       11:40 PM|109831|  5.831|            false|               Sales|\n",
      "|  Kimberly|Female| 1/14/1999|        7:13 AM| 41426| 14.543|             true|             Finance|\n",
      "|   Lillian|Female|06-05-2016|        6:09 AM| 59414|  1.256|            false|             Product|\n",
      "|    Jeremy|  Male| 9/21/2010|        5:56 AM| 90370|  7.369|            false|     Human Resources|\n",
      "|     Shawn|  Male|12-07-1986|        7:45 PM|111737|  6.414|            false|             Product|\n",
      "|     Diana|Female|10/23/1981|       10:27 AM|132940| 19.082|            false|     Client Services|\n",
      "|     Donna|Female| 7/22/2010|        3:48 AM| 81014|  1.894|            false|             Product|\n",
      "+----------+------+----------+---------------+------+-------+-----------------+--------------------+\n",
      "only showing top 20 rows\n",
      "\n"
     ]
    }
   ],
   "source": [
    "\n",
    "edf.show()"
   ]
  },
  {
   "cell_type": "code",
   "execution_count": 126,
   "id": "28cd4e12",
   "metadata": {},
   "outputs": [
    {
     "name": "stdout",
     "output_type": "stream",
     "text": [
      "+----------+------+----------+---------------+------+-------+-----------------+--------------------+\n",
      "|First Name|Gender|Start Date|Last Login Time|Salary|Bonus %|Senior Management|                Team|\n",
      "+----------+------+----------+---------------+------+-------+-----------------+--------------------+\n",
      "|   Douglas|  Male|08-06-1993|       12:42 PM| 97308|  6.945|             true|           Marketing|\n",
      "|    Thomas|  Male| 3/31/1996|        6:53 AM| 61933|   4.17|             true|               empty|\n",
      "|     Maria|Female| 4/23/1993|       11:17 AM|  null| 11.858|            false|             Finance|\n",
      "|     Jerry|  Male|03-04-2005|        1:00 PM|138705|   null|             true|             Finance|\n",
      "|     Larry|  Male| 1/24/1998|        4:47 PM|  null|  1.389|             true|     Client Services|\n",
      "|    Dennis|  Male| 4/18/1987|        1:35 AM|115163| 10.125|            false|               Legal|\n",
      "|      Ruby|Female|     empty|          empty| 65476| 10.012|             true|             Product|\n",
      "|     empty|Female| 7/20/2015|       10:43 AM|  null|   null|             null|             Finance|\n",
      "|    Angela|Female|     empty|        6:29 AM| 95570|   null|             true|         Engineering|\n",
      "|   Frances|Female|     empty|        6:51 AM|139852|  7.524|             true|Business Development|\n",
      "|    Louise|Female|08-12-1980|        9:01 AM| 63241| 15.132|             true|               empty|\n",
      "|     Julie|Female|10/26/1997|        3:19 PM|102508| 12.637|             true|               Legal|\n",
      "|   Brandon|  Male|12-01-1980|        1:08 AM|112807| 17.492|             true|     Human Resources|\n",
      "|      Gary|  Male| 1/27/2008|       11:40 PM|109831|  5.831|            false|               Sales|\n",
      "|  Kimberly|Female| 1/14/1999|        7:13 AM| 41426| 14.543|             true|             Finance|\n",
      "|   Lillian|Female|06-05-2016|        6:09 AM| 59414|  1.256|            false|             Product|\n",
      "|    Jeremy|  Male| 9/21/2010|        5:56 AM| 90370|  7.369|            false|     Human Resources|\n",
      "|     Shawn|  Male|12-07-1986|        7:45 PM|111737|  6.414|            false|             Product|\n",
      "|     Diana|Female|10/23/1981|       10:27 AM|132940| 19.082|            false|     Client Services|\n",
      "|     Donna|Female| 7/22/2010|        3:48 AM| 81014|  1.894|            false|             Product|\n",
      "+----------+------+----------+---------------+------+-------+-----------------+--------------------+\n",
      "only showing top 20 rows\n",
      "\n"
     ]
    }
   ],
   "source": [
    "edf.na.fill('empty').show()"
   ]
  },
  {
   "cell_type": "code",
   "execution_count": 127,
   "id": "760550e9",
   "metadata": {},
   "outputs": [
    {
     "name": "stdout",
     "output_type": "stream",
     "text": [
      "+----------+------+----------+---------------+------+-------+-----------------+--------------------+\n",
      "|First Name|Gender|Start Date|Last Login Time|Salary|Bonus %|Senior Management|                Team|\n",
      "+----------+------+----------+---------------+------+-------+-----------------+--------------------+\n",
      "|   Douglas|  Male|08-06-1993|       12:42 PM| 97308|  6.945|             true|           Marketing|\n",
      "|    Thomas|  Male| 3/31/1996|        6:53 AM| 61933|   4.17|             true|                null|\n",
      "|     Maria|Female| 4/23/1993|       11:17 AM|   101| 11.858|            false|             Finance|\n",
      "|     Jerry|  Male|03-04-2005|        1:00 PM|138705|  101.0|             true|             Finance|\n",
      "|     Larry|  Male| 1/24/1998|        4:47 PM|   101|  1.389|             true|     Client Services|\n",
      "|    Dennis|  Male| 4/18/1987|        1:35 AM|115163| 10.125|            false|               Legal|\n",
      "|      Ruby|Female|      null|           null| 65476| 10.012|             true|             Product|\n",
      "|      null|Female| 7/20/2015|       10:43 AM|   101|  101.0|             null|             Finance|\n",
      "|    Angela|Female|      null|        6:29 AM| 95570|  101.0|             true|         Engineering|\n",
      "|   Frances|Female|      null|        6:51 AM|139852|  7.524|             true|Business Development|\n",
      "|    Louise|Female|08-12-1980|        9:01 AM| 63241| 15.132|             true|                null|\n",
      "|     Julie|Female|10/26/1997|        3:19 PM|102508| 12.637|             true|               Legal|\n",
      "|   Brandon|  Male|12-01-1980|        1:08 AM|112807| 17.492|             true|     Human Resources|\n",
      "|      Gary|  Male| 1/27/2008|       11:40 PM|109831|  5.831|            false|               Sales|\n",
      "|  Kimberly|Female| 1/14/1999|        7:13 AM| 41426| 14.543|             true|             Finance|\n",
      "|   Lillian|Female|06-05-2016|        6:09 AM| 59414|  1.256|            false|             Product|\n",
      "|    Jeremy|  Male| 9/21/2010|        5:56 AM| 90370|  7.369|            false|     Human Resources|\n",
      "|     Shawn|  Male|12-07-1986|        7:45 PM|111737|  6.414|            false|             Product|\n",
      "|     Diana|Female|10/23/1981|       10:27 AM|132940| 19.082|            false|     Client Services|\n",
      "|     Donna|Female| 7/22/2010|        3:48 AM| 81014|  1.894|            false|             Product|\n",
      "+----------+------+----------+---------------+------+-------+-----------------+--------------------+\n",
      "only showing top 20 rows\n",
      "\n"
     ]
    }
   ],
   "source": [
    "edf.na.fill(101).show()\n",
    "\n"
   ]
  },
  {
   "cell_type": "code",
   "execution_count": 128,
   "id": "231fb87b",
   "metadata": {},
   "outputs": [
    {
     "name": "stdout",
     "output_type": "stream",
     "text": [
      "+----------+------+----------+---------------+------+-------+-----------------+--------------------+\n",
      "|First Name|Gender|Start Date|Last Login Time|Salary|Bonus %|Senior Management|                Team|\n",
      "+----------+------+----------+---------------+------+-------+-----------------+--------------------+\n",
      "|   Douglas|  Male|08-06-1993|       12:42 PM| 97308|  6.945|             true|           Marketing|\n",
      "|    Thomas|  Male| 3/31/1996|        6:53 AM| 61933|   4.17|             true|                null|\n",
      "|     Maria|Female| 4/23/1993|       11:17 AM|  null| 11.858|            false|             Finance|\n",
      "|     Jerry|  Male|03-04-2005|        1:00 PM|138705|   null|             true|             Finance|\n",
      "|     Larry|  Male| 1/24/1998|        4:47 PM|  null|  1.389|             true|     Client Services|\n",
      "|    Dennis|  Male| 4/18/1987|        1:35 AM|115163| 10.125|            false|               Legal|\n",
      "|      Ruby|Female|      null|           null| 65476| 10.012|             true|             Product|\n",
      "|      null|Female| 7/20/2015|       10:43 AM|  null|   null|             null|             Finance|\n",
      "|    Angela|Female|      null|        6:29 AM| 95570|   null|             true|         Engineering|\n",
      "|   Frances|Female|      null|        6:51 AM|139852|  7.524|             true|Business Development|\n",
      "|    Louise|Female|08-12-1980|        9:01 AM| 63241| 15.132|             true|                null|\n",
      "|     Julie|Female|10/26/1997|        3:19 PM|102508| 12.637|             true|               Legal|\n",
      "|   Brandon|  Male|12-01-1980|        1:08 AM|112807| 17.492|             true|     Human Resources|\n",
      "|      Gary|  Male| 1/27/2008|       11:40 PM|109831|  5.831|            false|               Sales|\n",
      "|  Kimberly|Female| 1/14/1999|        7:13 AM| 41426| 14.543|             true|             Finance|\n",
      "|   Lillian|Female|06-05-2016|        6:09 AM| 59414|  1.256|            false|             Product|\n",
      "|    Jeremy|  Male| 9/21/2010|        5:56 AM| 90370|  7.369|            false|     Human Resources|\n",
      "|     Shawn|  Male|12-07-1986|        7:45 PM|111737|  6.414|            false|             Product|\n",
      "|     Diana|Female|10/23/1981|       10:27 AM|132940| 19.082|            false|     Client Services|\n",
      "|     Donna|Female| 7/22/2010|        3:48 AM| 81014|  1.894|            false|             Product|\n",
      "+----------+------+----------+---------------+------+-------+-----------------+--------------------+\n",
      "only showing top 20 rows\n",
      "\n"
     ]
    }
   ],
   "source": [
    "\n",
    "edf.show()"
   ]
  },
  {
   "cell_type": "code",
   "execution_count": 129,
   "id": "ac0fc55d",
   "metadata": {},
   "outputs": [
    {
     "name": "stdout",
     "output_type": "stream",
     "text": [
      "+----------+------+----------+---------------+------+-------+-----------------+--------------------+\n",
      "|First Name|Gender|Start Date|Last Login Time|Salary|Bonus %|Senior Management|                Team|\n",
      "+----------+------+----------+---------------+------+-------+-----------------+--------------------+\n",
      "|   Douglas|  Male|08-06-1993|       12:42 PM| 97308|  6.945|             true|           Marketing|\n",
      "|    Thomas|  Male| 3/31/1996|        6:53 AM| 61933|   4.17|             true|                null|\n",
      "|     Maria|Female| 4/23/1993|       11:17 AM|  null| 11.858|            false|             Finance|\n",
      "|     Jerry|  Male|03-04-2005|        1:00 PM|138705|   null|             true|             Finance|\n",
      "|     Larry|  Male| 1/24/1998|        4:47 PM|  null|  1.389|             true|     Client Services|\n",
      "|    Dennis|  Male| 4/18/1987|        1:35 AM|115163| 10.125|            false|               Legal|\n",
      "|      Ruby|Female|      null|           null| 65476| 10.012|             true|             Product|\n",
      "|      null|Female| 7/20/2015|       10:43 AM|  null|   null|             null|             Finance|\n",
      "|    Angela|Female|      null|        6:29 AM| 95570|   null|             true|         Engineering|\n",
      "|   Frances|Female|      null|        6:51 AM|139852|  7.524|             true|Business Development|\n",
      "|    Louise|Female|08-12-1980|        9:01 AM| 63241| 15.132|             true|                null|\n",
      "|     Julie|Female|10/26/1997|        3:19 PM|102508| 12.637|             true|               Legal|\n",
      "|   Brandon|  Male|12-01-1980|        1:08 AM|112807| 17.492|             true|     Human Resources|\n",
      "|      Gary|  Male| 1/27/2008|       11:40 PM|109831|  5.831|            false|               Sales|\n",
      "|  Kimberly|Female| 1/14/1999|        7:13 AM| 41426| 14.543|             true|             Finance|\n",
      "|   Lillian|Female|06-05-2016|        6:09 AM| 59414|  1.256|            false|             Product|\n",
      "|    Jeremy|  Male| 9/21/2010|        5:56 AM| 90370|  7.369|            false|     Human Resources|\n",
      "|     Shawn|  Male|12-07-1986|        7:45 PM|111737|  6.414|            false|             Product|\n",
      "|     Diana|Female|10/23/1981|       10:27 AM|132940| 19.082|            false|     Client Services|\n",
      "|     Donna|Female| 7/22/2010|        3:48 AM| 81014|  1.894|            false|             Product|\n",
      "+----------+------+----------+---------------+------+-------+-----------------+--------------------+\n",
      "only showing top 20 rows\n",
      "\n"
     ]
    }
   ],
   "source": [
    "edf.na.drop(how='any',thresh=2).show()"
   ]
  },
  {
   "cell_type": "code",
   "execution_count": 130,
   "id": "fc335362",
   "metadata": {},
   "outputs": [
    {
     "name": "stdout",
     "output_type": "stream",
     "text": [
      "+----------+------+----------+---------------+------+-------+-----------------+--------------------+\n",
      "|First Name|Gender|Start Date|Last Login Time|Salary|Bonus %|Senior Management|                Team|\n",
      "+----------+------+----------+---------------+------+-------+-----------------+--------------------+\n",
      "|   Douglas|  Male|08-06-1993|       12:42 PM| 97308|  6.945|             true|           Marketing|\n",
      "|    Thomas|  Male| 3/31/1996|        6:53 AM| 61933|   4.17|             true|                null|\n",
      "|     Jerry|  Male|03-04-2005|        1:00 PM|138705|   null|             true|             Finance|\n",
      "|    Dennis|  Male| 4/18/1987|        1:35 AM|115163| 10.125|            false|               Legal|\n",
      "|      Ruby|Female|      null|           null| 65476| 10.012|             true|             Product|\n",
      "|    Angela|Female|      null|        6:29 AM| 95570|   null|             true|         Engineering|\n",
      "|   Frances|Female|      null|        6:51 AM|139852|  7.524|             true|Business Development|\n",
      "|    Louise|Female|08-12-1980|        9:01 AM| 63241| 15.132|             true|                null|\n",
      "|     Julie|Female|10/26/1997|        3:19 PM|102508| 12.637|             true|               Legal|\n",
      "|   Brandon|  Male|12-01-1980|        1:08 AM|112807| 17.492|             true|     Human Resources|\n",
      "|      Gary|  Male| 1/27/2008|       11:40 PM|109831|  5.831|            false|               Sales|\n",
      "|  Kimberly|Female| 1/14/1999|        7:13 AM| 41426| 14.543|             true|             Finance|\n",
      "|   Lillian|Female|06-05-2016|        6:09 AM| 59414|  1.256|            false|             Product|\n",
      "|    Jeremy|  Male| 9/21/2010|        5:56 AM| 90370|  7.369|            false|     Human Resources|\n",
      "|     Shawn|  Male|12-07-1986|        7:45 PM|111737|  6.414|            false|             Product|\n",
      "|     Diana|Female|10/23/1981|       10:27 AM|132940| 19.082|            false|     Client Services|\n",
      "|     Donna|Female| 7/22/2010|        3:48 AM| 81014|  1.894|            false|             Product|\n",
      "|      Lois|  null| 4/22/1995|        7:18 PM| 64714|  4.934|             true|               Legal|\n",
      "|   Matthew|  Male|09-05-1995|        2:12 AM|100612| 13.645|            false|           Marketing|\n",
      "|    Joshua|  null|03-08-2012|        1:58 AM| 90816| 18.816|             true|     Client Services|\n",
      "+----------+------+----------+---------------+------+-------+-----------------+--------------------+\n",
      "only showing top 20 rows\n",
      "\n"
     ]
    }
   ],
   "source": [
    "edf.na.drop(subset=['Salary']).show()\n"
   ]
  },
  {
   "cell_type": "code",
   "execution_count": 131,
   "id": "0f1c6879",
   "metadata": {},
   "outputs": [
    {
     "name": "stdout",
     "output_type": "stream",
     "text": [
      "+----------+------+----------+---------------+------+-------+-----------------+--------------------+\n",
      "|First Name|Gender|Start Date|Last Login Time|Salary|Bonus %|Senior Management|                Team|\n",
      "+----------+------+----------+---------------+------+-------+-----------------+--------------------+\n",
      "|   Douglas|  Male|08-06-1993|       12:42 PM| 97308|  6.945|             true|           Marketing|\n",
      "|    Thomas|  Male| 3/31/1996|        6:53 AM| 61933|   4.17|             true|                null|\n",
      "|     Maria|Female| 4/23/1993|       11:17 AM|     0| 11.858|            false|             Finance|\n",
      "|     Jerry|  Male|03-04-2005|        1:00 PM|138705|    0.0|             true|             Finance|\n",
      "|     Larry|  Male| 1/24/1998|        4:47 PM|     0|  1.389|             true|     Client Services|\n",
      "|    Dennis|  Male| 4/18/1987|        1:35 AM|115163| 10.125|            false|               Legal|\n",
      "|      Ruby|Female|      null|           null| 65476| 10.012|             true|             Product|\n",
      "|      null|Female| 7/20/2015|       10:43 AM|     0|    0.0|             null|             Finance|\n",
      "|    Angela|Female|      null|        6:29 AM| 95570|    0.0|             true|         Engineering|\n",
      "|   Frances|Female|      null|        6:51 AM|139852|  7.524|             true|Business Development|\n",
      "|    Louise|Female|08-12-1980|        9:01 AM| 63241| 15.132|             true|                null|\n",
      "|     Julie|Female|10/26/1997|        3:19 PM|102508| 12.637|             true|               Legal|\n",
      "|   Brandon|  Male|12-01-1980|        1:08 AM|112807| 17.492|             true|     Human Resources|\n",
      "|      Gary|  Male| 1/27/2008|       11:40 PM|109831|  5.831|            false|               Sales|\n",
      "|  Kimberly|Female| 1/14/1999|        7:13 AM| 41426| 14.543|             true|             Finance|\n",
      "|   Lillian|Female|06-05-2016|        6:09 AM| 59414|  1.256|            false|             Product|\n",
      "|    Jeremy|  Male| 9/21/2010|        5:56 AM| 90370|  7.369|            false|     Human Resources|\n",
      "|     Shawn|  Male|12-07-1986|        7:45 PM|111737|  6.414|            false|             Product|\n",
      "|     Diana|Female|10/23/1981|       10:27 AM|132940| 19.082|            false|     Client Services|\n",
      "|     Donna|Female| 7/22/2010|        3:48 AM| 81014|  1.894|            false|             Product|\n",
      "+----------+------+----------+---------------+------+-------+-----------------+--------------------+\n",
      "only showing top 20 rows\n",
      "\n"
     ]
    }
   ],
   "source": [
    "edf.na.fill(0).show()"
   ]
  },
  {
   "cell_type": "code",
   "execution_count": 134,
   "id": "ff874958",
   "metadata": {},
   "outputs": [
    {
     "name": "stdout",
     "output_type": "stream",
     "text": [
      "+----------+------+----------+---------------+------+-------+-----------------+--------------------+\n",
      "|First Name|Gender|Start Date|Last Login Time|Salary|Bonus %|Senior Management|                Team|\n",
      "+----------+------+----------+---------------+------+-------+-----------------+--------------------+\n",
      "|   Douglas|  Male|08-06-1993|       12:42 PM| 97308|  6.945|             true|           Marketing|\n",
      "|    Thomas|  Male| 3/31/1996|        6:53 AM| 61933|   4.17|             true|                null|\n",
      "|     Maria|Female| 4/23/1993|       11:17 AM|     0| 11.858|            false|             Finance|\n",
      "|     Jerry|  Male|03-04-2005|        1:00 PM|138705|    0.0|             true|             Finance|\n",
      "|     Larry|  Male| 1/24/1998|        4:47 PM|     0|  1.389|             true|     Client Services|\n",
      "|    Dennis|  Male| 4/18/1987|        1:35 AM|115163| 10.125|            false|               Legal|\n",
      "|      Ruby|Female|      null|           null| 65476| 10.012|             true|             Product|\n",
      "|      null|Female| 7/20/2015|       10:43 AM|     0|    0.0|             null|             Finance|\n",
      "|    Angela|Female|      null|        6:29 AM| 95570|    0.0|             true|         Engineering|\n",
      "|   Frances|Female|      null|        6:51 AM|139852|  7.524|             true|Business Development|\n",
      "|    Louise|Female|08-12-1980|        9:01 AM| 63241| 15.132|             true|                null|\n",
      "|     Julie|Female|10/26/1997|        3:19 PM|102508| 12.637|             true|               Legal|\n",
      "|   Brandon|  Male|12-01-1980|        1:08 AM|112807| 17.492|             true|     Human Resources|\n",
      "|      Gary|  Male| 1/27/2008|       11:40 PM|109831|  5.831|            false|               Sales|\n",
      "|  Kimberly|Female| 1/14/1999|        7:13 AM| 41426| 14.543|             true|             Finance|\n",
      "|   Lillian|Female|06-05-2016|        6:09 AM| 59414|  1.256|            false|             Product|\n",
      "|    Jeremy|  Male| 9/21/2010|        5:56 AM| 90370|  7.369|            false|     Human Resources|\n",
      "|     Shawn|  Male|12-07-1986|        7:45 PM|111737|  6.414|            false|             Product|\n",
      "|     Diana|Female|10/23/1981|       10:27 AM|132940| 19.082|            false|     Client Services|\n",
      "|     Donna|Female| 7/22/2010|        3:48 AM| 81014|  1.894|            false|             Product|\n",
      "+----------+------+----------+---------------+------+-------+-----------------+--------------------+\n",
      "only showing top 20 rows\n",
      "\n"
     ]
    }
   ],
   "source": [
    "edf.na.fill(0,['Salary','Bonus %']).show()"
   ]
  },
  {
   "cell_type": "code",
   "execution_count": 138,
   "id": "145f360b",
   "metadata": {},
   "outputs": [
    {
     "name": "stdout",
     "output_type": "stream",
     "text": [
      "+-------+----------+------+----------+---------------+------------------+-----------------+--------------------+\n",
      "|summary|First Name|Gender|Start Date|Last Login Time|            Salary|          Bonus %|                Team|\n",
      "+-------+----------+------+----------+---------------+------------------+-----------------+--------------------+\n",
      "|  count|       933|   855|       997|            999|               997|              997|                 957|\n",
      "|   mean|      null|  null|      null|           null| 90656.65095285857|10.19869007021063|                null|\n",
      "| stddev|      null|  null|      null|           null|32916.794268247395|5.530276746856254|                null|\n",
      "|    min|     Aaron|Female|01-01-2014|       10:00 AM|             35013|            1.015|Business Development|\n",
      "|    max|    Willie|  Male| 9/30/2007|        9:59 AM|            149908|           19.944|               Sales|\n",
      "+-------+----------+------+----------+---------------+------------------+-----------------+--------------------+\n",
      "\n"
     ]
    }
   ],
   "source": [
    "edf.describe().show()"
   ]
  },
  {
   "cell_type": "code",
   "execution_count": 151,
   "id": "96340ab8",
   "metadata": {},
   "outputs": [
    {
     "name": "stdout",
     "output_type": "stream",
     "text": [
      "+-----------------+\n",
      "|      avg(Salary)|\n",
      "+-----------------+\n",
      "|90656.65095285857|\n",
      "+-----------------+\n",
      "\n"
     ]
    }
   ],
   "source": [
    "from pyspark.sql import functions as f\n",
    "edf.agg(f.mean(\"Salary\")).show()"
   ]
  },
  {
   "cell_type": "code",
   "execution_count": 162,
   "id": "2680cf2b",
   "metadata": {},
   "outputs": [],
   "source": [
    "from pyspark.ml.feature import Imputer\n",
    "imp =Imputer(inputCols=['Salary','Bonus %'],\n",
    "            outputCols=['{}_Imputed'.format(c) for c in ['Salary','Bonus %']]).setStrategy(\"mean\")"
   ]
  },
  {
   "cell_type": "code",
   "execution_count": 163,
   "id": "d331ac62",
   "metadata": {},
   "outputs": [
    {
     "name": "stdout",
     "output_type": "stream",
     "text": [
      "+----------+------+----------+---------------+------+-------+-----------------+--------------------+--------------+-----------------+\n",
      "|First Name|Gender|Start Date|Last Login Time|Salary|Bonus %|Senior Management|                Team|Salary_Imputed|  Bonus %_Imputed|\n",
      "+----------+------+----------+---------------+------+-------+-----------------+--------------------+--------------+-----------------+\n",
      "|   Douglas|  Male|08-06-1993|       12:42 PM| 97308|  6.945|             true|           Marketing|         97308|            6.945|\n",
      "|    Thomas|  Male| 3/31/1996|        6:53 AM| 61933|   4.17|             true|                null|         61933|             4.17|\n",
      "|     Maria|Female| 4/23/1993|       11:17 AM|  null| 11.858|            false|             Finance|         90656|           11.858|\n",
      "|     Jerry|  Male|03-04-2005|        1:00 PM|138705|   null|             true|             Finance|        138705|10.19869007021063|\n",
      "|     Larry|  Male| 1/24/1998|        4:47 PM|  null|  1.389|             true|     Client Services|         90656|            1.389|\n",
      "|    Dennis|  Male| 4/18/1987|        1:35 AM|115163| 10.125|            false|               Legal|        115163|           10.125|\n",
      "|      Ruby|Female|      null|           null| 65476| 10.012|             true|             Product|         65476|           10.012|\n",
      "|      null|Female| 7/20/2015|       10:43 AM|  null|   null|             null|             Finance|         90656|10.19869007021063|\n",
      "|    Angela|Female|      null|        6:29 AM| 95570|   null|             true|         Engineering|         95570|10.19869007021063|\n",
      "|   Frances|Female|      null|        6:51 AM|139852|  7.524|             true|Business Development|        139852|            7.524|\n",
      "|    Louise|Female|08-12-1980|        9:01 AM| 63241| 15.132|             true|                null|         63241|           15.132|\n",
      "|     Julie|Female|10/26/1997|        3:19 PM|102508| 12.637|             true|               Legal|        102508|           12.637|\n",
      "|   Brandon|  Male|12-01-1980|        1:08 AM|112807| 17.492|             true|     Human Resources|        112807|           17.492|\n",
      "|      Gary|  Male| 1/27/2008|       11:40 PM|109831|  5.831|            false|               Sales|        109831|            5.831|\n",
      "|  Kimberly|Female| 1/14/1999|        7:13 AM| 41426| 14.543|             true|             Finance|         41426|           14.543|\n",
      "|   Lillian|Female|06-05-2016|        6:09 AM| 59414|  1.256|            false|             Product|         59414|            1.256|\n",
      "|    Jeremy|  Male| 9/21/2010|        5:56 AM| 90370|  7.369|            false|     Human Resources|         90370|            7.369|\n",
      "|     Shawn|  Male|12-07-1986|        7:45 PM|111737|  6.414|            false|             Product|        111737|            6.414|\n",
      "|     Diana|Female|10/23/1981|       10:27 AM|132940| 19.082|            false|     Client Services|        132940|           19.082|\n",
      "|     Donna|Female| 7/22/2010|        3:48 AM| 81014|  1.894|            false|             Product|         81014|            1.894|\n",
      "+----------+------+----------+---------------+------+-------+-----------------+--------------------+--------------+-----------------+\n",
      "only showing top 20 rows\n",
      "\n"
     ]
    }
   ],
   "source": [
    "imp.fit(edf).transform(edf).show()"
   ]
  },
  {
   "cell_type": "code",
   "execution_count": 166,
   "id": "4ac77a99",
   "metadata": {},
   "outputs": [],
   "source": [
    "imp =Imputer(inputCols=['Salary','Bonus %'],\n",
    "            outputCols=['{}_Imputed'.format(c) for c in ['Salary','Bonus %']]).setStrategy(\"mean\")"
   ]
  },
  {
   "cell_type": "code",
   "execution_count": 167,
   "id": "6cfbe10d",
   "metadata": {},
   "outputs": [
    {
     "name": "stdout",
     "output_type": "stream",
     "text": [
      "+----------+------+----------+---------------+------+-------+-----------------+--------------------+--------------+-----------------+\n",
      "|First Name|Gender|Start Date|Last Login Time|Salary|Bonus %|Senior Management|                Team|Salary_Imputed|  Bonus %_Imputed|\n",
      "+----------+------+----------+---------------+------+-------+-----------------+--------------------+--------------+-----------------+\n",
      "|   Douglas|  Male|08-06-1993|       12:42 PM| 97308|  6.945|             true|           Marketing|         97308|            6.945|\n",
      "|    Thomas|  Male| 3/31/1996|        6:53 AM| 61933|   4.17|             true|                null|         61933|             4.17|\n",
      "|     Maria|Female| 4/23/1993|       11:17 AM|  null| 11.858|            false|             Finance|         90656|           11.858|\n",
      "|     Jerry|  Male|03-04-2005|        1:00 PM|138705|   null|             true|             Finance|        138705|10.19871987951807|\n",
      "|     Larry|  Male| 1/24/1998|        4:47 PM|  null|  1.389|             true|     Client Services|         90656|            1.389|\n",
      "|    Dennis|  Male| 4/18/1987|        1:35 AM|115163| 10.125|            false|               Legal|        115163|           10.125|\n",
      "|      Ruby|Female|      null|           null| 65476| 10.012|             true|             Product|         65476|           10.012|\n",
      "|      null|Female| 7/20/2015|       10:43 AM|  null|   null|             null|             Finance|         90656|10.19871987951807|\n",
      "|    Angela|Female|      null|        6:29 AM| 95570|   null|             true|         Engineering|         95570|10.19871987951807|\n",
      "|   Frances|Female|      null|        6:51 AM|139852|  7.524|             true|Business Development|        139852|            7.524|\n",
      "|    Louise|Female|08-12-1980|        9:01 AM| 63241| 15.132|             true|                null|         63241|           15.132|\n",
      "|     Julie|Female|10/26/1997|        3:19 PM|102508| 12.637|             true|               Legal|        102508|           12.637|\n",
      "|   Brandon|  Male|12-01-1980|        1:08 AM|112807| 17.492|             true|     Human Resources|        112807|           17.492|\n",
      "|      Gary|  Male| 1/27/2008|       11:40 PM|109831|  5.831|            false|               Sales|        109831|            5.831|\n",
      "|  Kimberly|Female| 1/14/1999|        7:13 AM| 41426| 14.543|             true|             Finance|         41426|           14.543|\n",
      "|   Lillian|Female|06-05-2016|        6:09 AM| 59414|  1.256|            false|             Product|         59414|            1.256|\n",
      "|    Jeremy|  Male| 9/21/2010|        5:56 AM| 90370|  7.369|            false|     Human Resources|         90370|            7.369|\n",
      "|     Shawn|  Male|12-07-1986|        7:45 PM|111737|  6.414|            false|             Product|        111737|            6.414|\n",
      "|     Diana|Female|10/23/1981|       10:27 AM|132940| 19.082|            false|     Client Services|        132940|           19.082|\n",
      "|     Donna|Female| 7/22/2010|        3:48 AM| 81014|  1.894|            false|             Product|         81014|            1.894|\n",
      "+----------+------+----------+---------------+------+-------+-----------------+--------------------+--------------+-----------------+\n",
      "only showing top 20 rows\n",
      "\n"
     ]
    }
   ],
   "source": [
    "imp.fit(edf).transform(edf).show()"
   ]
  },
  {
   "cell_type": "code",
   "execution_count": 41,
   "id": "924394ff",
   "metadata": {},
   "outputs": [],
   "source": [
    "imp =Imputer(inputCols=['Salary','Bonus %'],\n",
    "            outputCols=['{}_Imputed'.format(c) for c in ['Salary','Bonus %']]).setStrategy(\"median\")"
   ]
  },
  {
   "cell_type": "code",
   "execution_count": 42,
   "id": "bcce1a34",
   "metadata": {},
   "outputs": [
    {
     "name": "stdout",
     "output_type": "stream",
     "text": [
      "+----------+------+----------+---------------+------+-------+-----------------+--------------------+--------------+---------------+\n",
      "|First Name|Gender|Start Date|Last Login Time|Salary|Bonus %|Senior Management|                Team|Salary_Imputed|Bonus %_Imputed|\n",
      "+----------+------+----------+---------------+------+-------+-----------------+--------------------+--------------+---------------+\n",
      "|   Douglas|  Male|08-06-1993|       12:42 PM| 97308|  6.945|             true|           Marketing|         97308|          6.945|\n",
      "|    Thomas|  Male| 3/31/1996|        6:53 AM| 61933|   4.17|             true|                null|         61933|           4.17|\n",
      "|     Maria|Female| 4/23/1993|       11:17 AM|  null| 11.858|            false|             Finance|         90370|         11.858|\n",
      "|     Jerry|  Male|03-04-2005|        1:00 PM|138705|   null|             true|             Finance|        138705|          9.801|\n",
      "|     Larry|  Male| 1/24/1998|        4:47 PM|  null|  1.389|             true|     Client Services|         90370|          1.389|\n",
      "|    Dennis|  Male| 4/18/1987|        1:35 AM|115163| 10.125|            false|               Legal|        115163|         10.125|\n",
      "|      Ruby|Female|      null|           null| 65476| 10.012|             true|             Product|         65476|         10.012|\n",
      "|      null|Female| 7/20/2015|       10:43 AM|  null|   null|             null|             Finance|         90370|          9.801|\n",
      "|    Angela|Female|      null|        6:29 AM| 95570|   null|             true|         Engineering|         95570|          9.801|\n",
      "|   Frances|Female|      null|        6:51 AM|139852|  7.524|             true|Business Development|        139852|          7.524|\n",
      "|    Louise|Female|08-12-1980|        9:01 AM| 63241| 15.132|             true|                null|         63241|         15.132|\n",
      "|     Julie|Female|10/26/1997|        3:19 PM|102508| 12.637|             true|               Legal|        102508|         12.637|\n",
      "|   Brandon|  Male|12-01-1980|        1:08 AM|112807| 17.492|             true|     Human Resources|        112807|         17.492|\n",
      "|      Gary|  Male| 1/27/2008|       11:40 PM|109831|  5.831|            false|               Sales|        109831|          5.831|\n",
      "|  Kimberly|Female| 1/14/1999|        7:13 AM| 41426| 14.543|             true|             Finance|         41426|         14.543|\n",
      "|   Lillian|Female|06-05-2016|        6:09 AM| 59414|  1.256|            false|             Product|         59414|          1.256|\n",
      "|    Jeremy|  Male| 9/21/2010|        5:56 AM| 90370|  7.369|            false|     Human Resources|         90370|          7.369|\n",
      "|     Shawn|  Male|12-07-1986|        7:45 PM|111737|  6.414|            false|             Product|        111737|          6.414|\n",
      "|     Diana|Female|10/23/1981|       10:27 AM|132940| 19.082|            false|     Client Services|        132940|         19.082|\n",
      "|     Donna|Female| 7/22/2010|        3:48 AM| 81014|  1.894|            false|             Product|         81014|          1.894|\n",
      "+----------+------+----------+---------------+------+-------+-----------------+--------------------+--------------+---------------+\n",
      "only showing top 20 rows\n",
      "\n"
     ]
    }
   ],
   "source": [
    "imp.fit(edf).transform(edf).show()"
   ]
  },
  {
   "cell_type": "code",
   "execution_count": 44,
   "id": "954fd12d",
   "metadata": {},
   "outputs": [],
   "source": [
    "imp =Imputer(inputCols=['Salary','Bonus %'],\n",
    "            outputCols=['{}_Imputed'.format(c) for c in ['Salary','Bonus %']]).setStrategy(\"mode\")"
   ]
  },
  {
   "cell_type": "code",
   "execution_count": 45,
   "id": "a9337a13",
   "metadata": {},
   "outputs": [
    {
     "name": "stdout",
     "output_type": "stream",
     "text": [
      "+----------+------+----------+---------------+------+-------+-----------------+--------------------+--------------+---------------+\n",
      "|First Name|Gender|Start Date|Last Login Time|Salary|Bonus %|Senior Management|                Team|Salary_Imputed|Bonus %_Imputed|\n",
      "+----------+------+----------+---------------+------+-------+-----------------+--------------------+--------------+---------------+\n",
      "|   Douglas|  Male|08-06-1993|       12:42 PM| 97308|  6.945|             true|           Marketing|         97308|          6.945|\n",
      "|    Thomas|  Male| 3/31/1996|        6:53 AM| 61933|   4.17|             true|                null|         61933|           4.17|\n",
      "|     Maria|Female| 4/23/1993|       11:17 AM|  null| 11.858|            false|             Finance|         86676|         11.858|\n",
      "|     Jerry|  Male|03-04-2005|        1:00 PM|138705|   null|             true|             Finance|        138705|          8.999|\n",
      "|     Larry|  Male| 1/24/1998|        4:47 PM|  null|  1.389|             true|     Client Services|         86676|          1.389|\n",
      "|    Dennis|  Male| 4/18/1987|        1:35 AM|115163| 10.125|            false|               Legal|        115163|         10.125|\n",
      "|      Ruby|Female|      null|           null| 65476| 10.012|             true|             Product|         65476|         10.012|\n",
      "|      null|Female| 7/20/2015|       10:43 AM|  null|   null|             null|             Finance|         86676|          8.999|\n",
      "|    Angela|Female|      null|        6:29 AM| 95570|   null|             true|         Engineering|         95570|          8.999|\n",
      "|   Frances|Female|      null|        6:51 AM|139852|  7.524|             true|Business Development|        139852|          7.524|\n",
      "|    Louise|Female|08-12-1980|        9:01 AM| 63241| 15.132|             true|                null|         63241|         15.132|\n",
      "|     Julie|Female|10/26/1997|        3:19 PM|102508| 12.637|             true|               Legal|        102508|         12.637|\n",
      "|   Brandon|  Male|12-01-1980|        1:08 AM|112807| 17.492|             true|     Human Resources|        112807|         17.492|\n",
      "|      Gary|  Male| 1/27/2008|       11:40 PM|109831|  5.831|            false|               Sales|        109831|          5.831|\n",
      "|  Kimberly|Female| 1/14/1999|        7:13 AM| 41426| 14.543|             true|             Finance|         41426|         14.543|\n",
      "|   Lillian|Female|06-05-2016|        6:09 AM| 59414|  1.256|            false|             Product|         59414|          1.256|\n",
      "|    Jeremy|  Male| 9/21/2010|        5:56 AM| 90370|  7.369|            false|     Human Resources|         90370|          7.369|\n",
      "|     Shawn|  Male|12-07-1986|        7:45 PM|111737|  6.414|            false|             Product|        111737|          6.414|\n",
      "|     Diana|Female|10/23/1981|       10:27 AM|132940| 19.082|            false|     Client Services|        132940|         19.082|\n",
      "|     Donna|Female| 7/22/2010|        3:48 AM| 81014|  1.894|            false|             Product|         81014|          1.894|\n",
      "+----------+------+----------+---------------+------+-------+-----------------+--------------------+--------------+---------------+\n",
      "only showing top 20 rows\n",
      "\n"
     ]
    }
   ],
   "source": [
    "imp.fit(edf).transform(edf).show()"
   ]
  },
  {
   "cell_type": "code",
   "execution_count": 78,
   "id": "57ab3e40",
   "metadata": {},
   "outputs": [
    {
     "name": "stdout",
     "output_type": "stream",
     "text": [
      "+----------+------+----------+---------------+------+-------+-----------------+--------------------+\n",
      "|First Name|Gender|Start Date|Last Login Time|Salary|Bonus %|Senior Management|                Team|\n",
      "+----------+------+----------+---------------+------+-------+-----------------+--------------------+\n",
      "|   Douglas|  Male|08-06-1993|       12:42 PM| 97308|  6.945|             true|           Marketing|\n",
      "|    Angela|Female|      null|        6:29 AM| 95570|   null|             true|         Engineering|\n",
      "|    Jeremy|  Male| 9/21/2010|        5:56 AM| 90370|  7.369|            false|     Human Resources|\n",
      "|     Donna|Female| 7/22/2010|        3:48 AM| 81014|  1.894|            false|             Product|\n",
      "|    Joshua|  null|03-08-2012|        1:58 AM| 90816| 18.816|             true|     Client Services|\n",
      "|      John|  Male|07-01-1992|       10:08 PM| 97950| 13.873|            false|     Client Services|\n",
      "|     Joyce|  null| 2/20/2005|        2:40 PM| 88657| 12.752|            false|             Product|\n",
      "|     Jerry|  Male|01-10-2004|       12:56 PM| 95734| 19.096|            false|     Client Services|\n",
      "|   Theresa|Female|10-10-2006|        1:12 AM| 85182| 16.675|            false|               Sales|\n",
      "|   Michael|  Male|10-10-2008|       11:25 AM| 99283|  2.665|             true|        Distribution|\n",
      "|     Roger|  Male| 4/17/1980|       11:32 AM| 88010| 13.886|             true|               Sales|\n",
      "|  Clarence|  Male| 3/26/1996|        5:57 AM| 93581|  6.083|             true|Business Development|\n",
      "|     Nancy|Female| 9/23/2000|        8:05 AM| 94976|  13.83|             true|         Engineering|\n",
      "|      Sara|Female| 8/15/2007|        9:23 AM| 83677|  8.999|            false|         Engineering|\n",
      "|      Jose|  Male|10/30/2004|        1:39 PM| 84834|  14.33|             true|             Finance|\n",
      "|      Todd|  null|06-10-2003|        2:26 PM| 84692|  6.617|            false|     Client Services|\n",
      "|   Frances|Female|04-04-1999|        4:19 PM| 90582|  4.709|             true|               Sales|\n",
      "|     Doris|Female| 8/20/2004|        5:51 AM| 83072|  7.511|            false|             Finance|\n",
      "|    Janice|  null| 8/21/1997|        5:12 AM| 91719| 11.583|             true|               Legal|\n",
      "|      John|  Male|12/23/1989|        7:01 AM| 80740| 19.305|            false|           Marketing|\n",
      "+----------+------+----------+---------------+------+-------+-----------------+--------------------+\n",
      "only showing top 20 rows\n",
      "\n"
     ]
    }
   ],
   "source": [
    "edf.filter((edf[\"Salary\"]>80000) & (edf[\"Salary\"]>50000) & ~(edf[\"Salary\"]>100000)).show()"
   ]
  },
  {
   "cell_type": "code",
   "execution_count": 81,
   "id": "14bad761",
   "metadata": {},
   "outputs": [
    {
     "name": "stdout",
     "output_type": "stream",
     "text": [
      "+----------+------+----------+---------------+------+-------+-----------------+--------------------+\n",
      "|First Name|Gender|Start Date|Last Login Time|Salary|Bonus %|Senior Management|                Team|\n",
      "+----------+------+----------+---------------+------+-------+-----------------+--------------------+\n",
      "|   Douglas|  Male|08-06-1993|       12:42 PM| 97308|  6.945|             true|           Marketing|\n",
      "|    Thomas|  Male| 3/31/1996|        6:53 AM| 61933|   4.17|             true|                null|\n",
      "|     Maria|Female| 4/23/1993|       11:17 AM|  null| 11.858|            false|             Finance|\n",
      "|     Jerry|  Male|03-04-2005|        1:00 PM|138705|   null|             true|             Finance|\n",
      "|     Larry|  Male| 1/24/1998|        4:47 PM|  null|  1.389|             true|     Client Services|\n",
      "|    Dennis|  Male| 4/18/1987|        1:35 AM|115163| 10.125|            false|               Legal|\n",
      "|      Ruby|Female|      null|           null| 65476| 10.012|             true|             Product|\n",
      "|      null|Female| 7/20/2015|       10:43 AM|  null|   null|             null|             Finance|\n",
      "|    Angela|Female|      null|        6:29 AM| 95570|   null|             true|         Engineering|\n",
      "|   Frances|Female|      null|        6:51 AM|139852|  7.524|             true|Business Development|\n",
      "|    Louise|Female|08-12-1980|        9:01 AM| 63241| 15.132|             true|                null|\n",
      "|     Julie|Female|10/26/1997|        3:19 PM|102508| 12.637|             true|               Legal|\n",
      "|   Brandon|  Male|12-01-1980|        1:08 AM|112807| 17.492|             true|     Human Resources|\n",
      "|      Gary|  Male| 1/27/2008|       11:40 PM|109831|  5.831|            false|               Sales|\n",
      "|  Kimberly|Female| 1/14/1999|        7:13 AM| 41426| 14.543|             true|             Finance|\n",
      "|   Lillian|Female|06-05-2016|        6:09 AM| 59414|  1.256|            false|             Product|\n",
      "|    Jeremy|  Male| 9/21/2010|        5:56 AM| 90370|  7.369|            false|     Human Resources|\n",
      "|     Shawn|  Male|12-07-1986|        7:45 PM|111737|  6.414|            false|             Product|\n",
      "|     Diana|Female|10/23/1981|       10:27 AM|132940| 19.082|            false|     Client Services|\n",
      "|     Donna|Female| 7/22/2010|        3:48 AM| 81014|  1.894|            false|             Product|\n",
      "+----------+------+----------+---------------+------+-------+-----------------+--------------------+\n",
      "only showing top 20 rows\n",
      "\n"
     ]
    }
   ],
   "source": [
    "ed1=edf.drop((edf[\"Salary\"]>100000))\n",
    "ed1.show()"
   ]
  },
  {
   "cell_type": "code",
   "execution_count": null,
   "id": "064f2e5c",
   "metadata": {},
   "outputs": [],
   "source": []
  },
  {
   "cell_type": "code",
   "execution_count": null,
   "id": "d00339ee",
   "metadata": {},
   "outputs": [],
   "source": []
  }
 ],
 "metadata": {
  "kernelspec": {
   "display_name": "Python 3 (ipykernel)",
   "language": "python",
   "name": "python3"
  },
  "language_info": {
   "codemirror_mode": {
    "name": "ipython",
    "version": 3
   },
   "file_extension": ".py",
   "mimetype": "text/x-python",
   "name": "python",
   "nbconvert_exporter": "python",
   "pygments_lexer": "ipython3",
   "version": "3.9.7"
  }
 },
 "nbformat": 4,
 "nbformat_minor": 5
}
